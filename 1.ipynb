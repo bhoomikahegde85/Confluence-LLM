{
 "cells": [
  {
   "cell_type": "code",
   "execution_count": null,
   "metadata": {},
   "outputs": [],
   "source": [
    "%pip install llama-index\n",
    "%pip install llama-index-llms-ollama\n",
    "%pip install llama-index-embeddings-huggingface\n",
    "%pip install llama-index-core llama-index-readers-file \n",
    "%pip install -e llama-index-integrations/llms/llama-index-llms-ollama\n",
    "%pip install llama-index-llms-replicate\n",
    "%pip install llama-parse\n",
    "%pip install replicate"
   ]
  },
  {
   "cell_type": "code",
   "execution_count": null,
   "metadata": {},
   "outputs": [],
   "source": [
    "%pip install beir"
   ]
  },
  {
   "cell_type": "code",
   "execution_count": null,
   "metadata": {},
   "outputs": [],
   "source": [
    "%pip install spacy"
   ]
  },
  {
   "cell_type": "code",
   "execution_count": null,
   "metadata": {},
   "outputs": [],
   "source": [
    "%pip install llama-index llama-index-llms-huggingface llama-index-embeddings-huggingface transformers accelerate bitsandbytes llama-index-readers-web"
   ]
  },
  {
   "cell_type": "markdown",
   "metadata": {},
   "source": [
    "Making a cache directory to store cache files \n"
   ]
  },
  {
   "cell_type": "code",
   "execution_count": 91,
   "metadata": {},
   "outputs": [],
   "source": [
    "import os\n",
    "os.environ['LLAMA_INDEX_CACHE_DIR'] = './h'"
   ]
  },
  {
   "cell_type": "code",
   "execution_count": 374,
   "metadata": {},
   "outputs": [],
   "source": [
    "from llama_index.core import VectorStoreIndex, SimpleDirectoryReader, Settings\n",
    "from llama_index.embeddings.huggingface import HuggingFaceEmbedding\n",
    "from llama_index.llms.ollama import Ollama\n",
    "\n",
    "\n",
    "def get_meta(file_path):\n",
    "    return {\"foo\": \"bar\", \"file_path\": file_path}\n",
    "\n",
    "reader = SimpleDirectoryReader(\"./data\",recursive = True,file_metadata=get_meta)\n",
    "#SimpleDirectoryReader(input_files=[\"path/to/file1\", \"path/to/file2\"])\n",
    "#SimpleDirectoryReader(\n",
    "   # input_dir=\"path/to/directory\", exclude=[\"path/to/file1\", \"path/to/file2\"]\n",
    "#)\n",
    "#SimpleDirectoryReader(\n",
    "   # input_dir=\"path/to/directory\", required_exts=[\".pdf\", \".docx\"]\n",
    "#)\n",
    "#SimpleDirectoryReader(input_dir=\"path/to/directory\", num_files_limit=100)\n",
    "all_docs = []\n",
    "for docs in reader.iter_data():\n",
    "    # <do something with the documents per file>\n",
    "    all_docs.extend(docs)\n",
    "\"\"\"\n",
    "from llama_index.core import SimpleDirectoryReader\n",
    "from llama_index.core.readers.base import BaseReader\n",
    "from llama_index.core import Document\n",
    "\n",
    "\n",
    "class MyFileReader(BaseReader):\n",
    "    def load_data(self, file, extra_info=None):\n",
    "        with open(file, \"r\") as f:\n",
    "            text = f.read()\n",
    "        # load_data returns a list of Document objects\n",
    "        return [Document(text=text + \"Foobar\", extra_info=extra_info or {})]\n",
    "\n",
    "\n",
    "reader = SimpleDirectoryReader(\n",
    "    input_dir=\"./data\", file_extractor={\".myfile\": MyFileReader()}\n",
    ")\n",
    "\n",
    "\"\"\"\n",
    "documents = reader.load_data()\n",
    "# Configure settings\n",
    "Settings.embed_model = HuggingFaceEmbedding(model_name=\"BAAI/bge-base-en-v1.5\")\n",
    "Settings.llm = Ollama(model=\"llama3\", request_timeout=360.0, temperature=0.1)\n",
    "\n",
    "# Create index\n",
    "index = VectorStoreIndex.from_documents(documents)\n"
   ]
  },
  {
   "cell_type": "code",
   "execution_count": null,
   "metadata": {},
   "outputs": [],
   "source": [
    "\"\"\"\n",
    "from llama_index.core import VectorStoreIndex, download_loader\n",
    "\n",
    "from llama_index.readers.google import GoogleDocsReader\n",
    "\n",
    "gdoc_ids = [\"1wf-y2pd9C878Oh-FmLH7Q_BQkljdm6TQal-c1pUfrec\"]\n",
    "loader = GoogleDocsReader()\n",
    "documents = loader.load_data(document_ids=gdoc_ids)\n",
    "index = VectorStoreIndex.from_documents(documents)\n",
    "query_engine = index.as_query_engine()\n",
    "query_engine.query(\"Where did the author go to school?\")\n",
    "\"\"\""
   ]
  },
  {
   "cell_type": "code",
   "execution_count": null,
   "metadata": {},
   "outputs": [],
   "source": [
    "documents"
   ]
  },
  {
   "cell_type": "code",
   "execution_count": 252,
   "metadata": {},
   "outputs": [
    {
     "name": "stdout",
     "output_type": "stream",
     "text": [
      "The Sprint planning checklist includes:\n",
      "\n",
      "* Agenda\n",
      "* Previous sprint summary\n",
      "* Details\n",
      "* Velocity tracking\n",
      "* Adjusted velocity tracking\n",
      "* Capacity planning\n",
      "* Potential risks\n",
      "\n",
      "Page number: Page 1\n"
     ]
    }
   ],
   "source": [
    "query_engine1 = index.as_query_engine(response_mode=\"compact\")\n",
    "response = query_engine1.query(\"What are the things in the Sprint planning checklist? and also list the page number\")\n",
    "print(response)"
   ]
  },
  {
   "cell_type": "code",
   "execution_count": 381,
   "metadata": {},
   "outputs": [
    {
     "name": "stdout",
     "output_type": "stream",
     "text": [
      "The issue at hand is an intermittent database connection timeout error affecting certain reports. This error impacts productivity during peak hours. The primary configuration item causing this problem is a database connection timeout. To resolve this issue, confirm that the error message received is related to a database connection timeout and verify that the network connectivity between the application and the database server is stable. Additionally, validate the database credentials (username, password, hostname, port) are correct.\n",
      "\n",
      "Page number: 2\n"
     ]
    }
   ],
   "source": [
    "query_engine1 = index.as_query_engine(response_mode=\"refine\")\n",
    "response = query_engine1.query(\"Explain the error details and also list the page number\")\n",
    "print(response)"
   ]
  },
  {
   "cell_type": "code",
   "execution_count": 130,
   "metadata": {},
   "outputs": [],
   "source": [
    "from llama_index.core import VectorStoreIndex\n",
    "\n",
    "vector_index = VectorStoreIndex.from_documents(documents)\n",
    "from llama_index.core.indices import SummaryIndex\n",
    "\n",
    "summary_index = SummaryIndex.from_documents(documents)"
   ]
  },
  {
   "cell_type": "code",
   "execution_count": 131,
   "metadata": {},
   "outputs": [],
   "source": [
    "from llama_index.core.tools import QueryEngineTool, ToolMetadata\n",
    "\n",
    "vector_tool = QueryEngineTool(\n",
    "    vector_index.as_query_engine(),\n",
    "    metadata=ToolMetadata(\n",
    "        name=\"vector_search\",\n",
    "        description=\"Useful for searching for specific facts.\"\n",
    "    )\n",
    ")\n",
    "\n",
    "summary_tool = QueryEngineTool(\n",
    "    summary_index.as_query_engine(response_mode=\"tree_summarize\"),\n",
    "    metadata=ToolMetadata(\n",
    "        name=\"summary\",\n",
    "        description=\"Useful for summarizing an entire document.\"\n",
    "    )\n",
    ")"
   ]
  },
  {
   "cell_type": "code",
   "execution_count": 132,
   "metadata": {},
   "outputs": [
    {
     "name": "stdout",
     "output_type": "stream",
     "text": [
      "Before starting the meeting, it's essential to close the previous sprint, organize the backlog, and confirm team capacity updates. Additionally, reviewing how to estimate story points can help set expectations and goals for the upcoming sprint.\n"
     ]
    }
   ],
   "source": [
    "\n",
    "from llama_index.core.query_engine import RouterQueryEngine\n",
    "\n",
    "query_engine = RouterQueryEngine.from_defaults(\n",
    "    [vector_tool, summary_tool],\n",
    "    select_multi=True\n",
    ")\n",
    "query = \"What are the things to be kept in mind before starting the meet?\"\n",
    "response = query_engine.query(\"What are the things to be kept in mind before starting the meet?\")\n",
    "\n",
    "print(response)"
   ]
  },
  {
   "cell_type": "markdown",
   "metadata": {},
   "source": [
    "### Generating questions"
   ]
  },
  {
   "cell_type": "code",
   "execution_count": 165,
   "metadata": {},
   "outputs": [
    {
     "name": "stderr",
     "output_type": "stream",
     "text": [
      "/Users/chirag/Library/Python/3.9/lib/python/site-packages/llama_index/core/evaluation/dataset_generation.py:215: DeprecationWarning: Call to deprecated class DatasetGenerator. (Deprecated in favor of `RagDatasetGenerator` which should be used instead.)\n",
      "  return cls(\n"
     ]
    }
   ],
   "source": [
    "\n",
    "from llama_index.core.evaluation import DatasetGenerator, RelevancyEvaluator\n",
    "data_generator = DatasetGenerator.from_documents(documents)"
   ]
  },
  {
   "cell_type": "code",
   "execution_count": 166,
   "metadata": {},
   "outputs": [
    {
     "name": "stderr",
     "output_type": "stream",
     "text": [
      "/Users/chirag/Library/Python/3.9/lib/python/site-packages/llama_index/core/evaluation/dataset_generation.py:312: DeprecationWarning: Call to deprecated class QueryResponseDataset. (Deprecated in favor of `LabelledRagDataset` which should be used instead.)\n",
      "  return QueryResponseDataset(queries=queries, responses=responses_dict)\n"
     ]
    }
   ],
   "source": [
    "eval_questions = data_generator.generate_questions_from_nodes()"
   ]
  },
  {
   "cell_type": "code",
   "execution_count": 167,
   "metadata": {},
   "outputs": [
    {
     "data": {
      "text/plain": [
       "['Here are 10 questions based on the given context:',\n",
       " 'What type of file is \"template.pdf\"?',\n",
       " 'Who are the team members mentioned in the Sprint team members section?',\n",
       " 'When was the last modified date of the file \"template.pdf\"?',\n",
       " 'What is the purpose of the Sprint planning meeting items section?',\n",
       " 'How many bytes does the file \"template.pdf\" weigh (based on its file size)?',\n",
       " 'Who brought this template to you, according to the text?',\n",
       " 'What is the name of the project and issue tracker that provided this template?',\n",
       " 'When was the creation date of the file \"template.pdf\"?',\n",
       " 'What are some of the topics covered in the Sprint planning resources section?',\n",
       " 'What is the purpose of organizing the backlog, as mentioned in the Preparation Meeting Follow-up section?',\n",
       " 'These questions cover various aspects of the given context, including file information, team members, and meeting preparation.',\n",
       " 'Here are 10 questions based on the provided context information:',\n",
       " 'What is the file type of the template being used?',\n",
       " 'a) application/pdf',\n",
       " 'b) text/plain',\n",
       " 'c) image/jpeg',\n",
       " 'd) audio/mp3',\n",
       " 'Who are the two team members mentioned in the capacity planning section?',\n",
       " 'a) Ram and Sita',\n",
       " 'b) John and Jane',\n",
       " 'c) Michael and Sarah',\n",
       " 'd) David and Emily',\n",
       " 'What is the theme of the previous sprint?',\n",
       " 'a) Developing new features',\n",
       " 'b) Stabilizing the platform by addressing critical bugs',\n",
       " 'c) Improving team communication',\n",
       " 'd) Enhancing user experience',\n",
       " 'How many story points are assigned to Story 2?',\n",
       " 'a) 5 points',\n",
       " 'b) 8 points',\n",
       " 'c) 3 points',\n",
       " 'd) 10 points',\n",
       " 'What is the file size of the template.pdf file?',\n",
       " 'a) 100 KB',\n",
       " 'b) 132191 bytes (approximately)',\n",
       " 'c) 500 MB',\n",
       " 'd) 1 GB',\n",
       " 'When was the last modified date of the template.pdf file?',\n",
       " 'a) 2024-07-08',\n",
       " 'b) 2024-07-02',\n",
       " 'c) 2023-12-31',\n",
       " 'd) 2022-01-01',\n",
       " 'What is the total days for the previous sprint?',\n",
       " 'a) 10 days',\n",
       " 'b) 20 days',\n",
       " 'c) 30 days',\n",
       " 'd) 40 days',\n",
       " 'What percentage of team capacity was utilized in the previous sprint?',\n",
       " 'a) 50%',\n",
       " 'b) 60%',\n",
       " 'c) 70%',\n",
       " 'd) 80%',\n",
       " 'How many hours does Ram have available for the current sprint?',\n",
       " 'a) 30 hours',\n",
       " 'b) 40 hours',\n",
       " 'c) 45 hours',\n",
       " 'd) 50 hours',\n",
       " 'What is the risk mitigation strategy suggested if the team has a smaller buffer than expected?',\n",
       " 'a) Load high-priority work to the backlog',\n",
       " 'b) Load low-priority work to the backlog',\n",
       " 'c) Increase team capacity by 20%',\n",
       " 'd) Decrease team capacity by 10%',\n",
       " 'Here are 10 questions based on the given context information:',\n",
       " 'What is the label of the page being referred to?',\n",
       " 'a) 1',\n",
       " 'b) 2',\n",
       " 'c) 3',\n",
       " 'd) 4',\n",
       " 'Answer: c) 3',\n",
       " 'What is the file name mentioned in the context information?',\n",
       " 'a) template.docx',\n",
       " 'b) template.pdf',\n",
       " 'c) data.txt',\n",
       " 'd) report.xlsx',\n",
       " 'Answer: b) template.pdf',\n",
       " 'Where is the file located, according to the context information?',\n",
       " 'a) /Users/chirag/Documents/data/',\n",
       " 'b) /Users/chirag/Documents/template/',\n",
       " 'c) /Users/chirag/Documents/data/template/',\n",
       " 'd) /Users/chirag/Documents/report/',\n",
       " 'Answer: c) /Users/chirag/Documents/data/template/',\n",
       " 'What is the file type mentioned in the context information?',\n",
       " 'a) text/plain',\n",
       " 'b) application/pdf',\n",
       " 'c) image/jpeg',\n",
       " 'd) audio/mp3',\n",
       " 'Answer: b) application/pdf',\n",
       " 'How many bytes does the file weigh, according to the context information?',\n",
       " 'a) 1000',\n",
       " 'b) 132191',\n",
       " 'c) 50000',\n",
       " 'd) 200000',\n",
       " 'Answer: b) 132191',\n",
       " 'When was the file created, according to the context information?',\n",
       " 'a) 2024-07-02',\n",
       " 'b) 2024-07-08',\n",
       " 'c) 2023-06-15',\n",
       " 'd) 2022-01-01',\n",
       " 'Answer: b) 2024-07-08',\n",
       " 'When was the file last modified, according to the context information?',\n",
       " 'a) 2024-07-02',\n",
       " 'b) 2024-07-08',\n",
       " 'c) 2023-06-15',\n",
       " 'd) 2022-01-01',\n",
       " 'Answer: a) 2024-07-02',\n",
       " 'What is the topic of the resources mentioned in the context information?',\n",
       " 'a) Team management',\n",
       " 'b) Sprint planning',\n",
       " 'c) Data analysis',\n",
       " 'd) Project coordination',\n",
       " 'Answer: b) Sprint planning',\n",
       " 'Are there any specific tools or software required for the resources mentioned in the context information?',\n",
       " 'a) Yes, sprint boards and retrospectives are required.',\n",
       " 'b) No, no specific tools are needed.',\n",
       " 'c) Yes, team collaboration software is necessary.',\n",
       " 'd) Yes, project management software is required.',\n",
       " 'Answer: a) Yes, sprint boards and retrospectives are required.',\n",
       " 'What type of resources does the context information mention?',\n",
       " 'a) Team resources',\n",
       " 'b) Project resources',\n",
       " 'c) Data resources',\n",
       " 'd) Sprint resources',\n",
       " 'Answer: d) Sprint resources',\n",
       " 'Here are 10 questions based on the given context information:',\n",
       " 'What is the file type of the file \"template2.pdf\"?',\n",
       " '_____________________________________________________',\n",
       " 'Who is the owner of the incident ticket \"#TCK2024-005\"?',\n",
       " '_____________________________________________________',\n",
       " 'When was the file \"template2.pdf\" created?',\n",
       " '_____________________________________________________',\n",
       " 'What is the status of the incident investigation as of the last update date?',\n",
       " '_____________________________________________________',\n",
       " 'Which services were affected by the website outage reported in the incident?',\n",
       " '_____________________________________________________',\n",
       " 'What is the priority level assigned to the incident \"#TCK2024-005\"?',\n",
       " '_____________________________________________________',\n",
       " 'When was the file \"template2.pdf\" last modified?',\n",
       " '_____________________________________________________',\n",
       " 'Who reported the incident on July 9, 2024, at 10:00?',\n",
       " '_____________________________________________________',\n",
       " 'What is the total size of the file \"template2.pdf\" in bytes?',\n",
       " '_____________________________________________________',\n",
       " 'Which week did the incident occur? (July 9-17, 2024)',\n",
       " '_____________________________________________________']"
      ]
     },
     "execution_count": 167,
     "metadata": {},
     "output_type": "execute_result"
    }
   ],
   "source": [
    "eval_questions"
   ]
  },
  {
   "cell_type": "markdown",
   "metadata": {},
   "source": [
    "## Trial evaluation: didn't work"
   ]
  },
  {
   "cell_type": "code",
   "execution_count": 168,
   "metadata": {},
   "outputs": [],
   "source": [
    "evaluator = RelevancyEvaluator(llm= Settings.llm)"
   ]
  },
  {
   "cell_type": "code",
   "execution_count": 180,
   "metadata": {},
   "outputs": [
    {
     "data": {
      "text/html": [
       "<style type=\"text/css\">\n",
       "#T_9b37f_row0_col1, #T_9b37f_row0_col2 {\n",
       "  inline-size: 0px;\n",
       "  overflow-wrap: break-word;\n",
       "}\n",
       "</style>\n",
       "<table id=\"T_9b37f\">\n",
       "  <thead>\n",
       "    <tr>\n",
       "      <th class=\"blank level0\" >&nbsp;</th>\n",
       "      <th id=\"T_9b37f_level0_col0\" class=\"col_heading level0 col0\" >Query</th>\n",
       "      <th id=\"T_9b37f_level0_col1\" class=\"col_heading level0 col1\" >Response</th>\n",
       "      <th id=\"T_9b37f_level0_col2\" class=\"col_heading level0 col2\" >Source</th>\n",
       "      <th id=\"T_9b37f_level0_col3\" class=\"col_heading level0 col3\" >Evaluation Result</th>\n",
       "    </tr>\n",
       "  </thead>\n",
       "  <tbody>\n",
       "    <tr>\n",
       "      <th id=\"T_9b37f_level0_row0\" class=\"row_heading level0 row0\" >0</th>\n",
       "      <td id=\"T_9b37f_row0_col0\" class=\"data row0 col0\" >Who are the team members mentioned in the Sprint team members section?</td>\n",
       "      <td id=\"T_9b37f_row0_col1\" class=\"data row0 col1\" >Ram SDE2 and Sita SDE1.</td>\n",
       "      <td id=\"T_9b37f_row0_col2\" class=\"data row0 col2\" >JIRA\n",
       " Sprint planning checklist\n",
       " Sprint team members\n",
       " Sprint planning meeting items\n",
       "Agenda\n",
       "Previous sprint summary\n",
       "Details\n",
       "Velocity tracking\n",
       "Adjusted velocity tracking\n",
       "Capacity planning\n",
       "Potential risks\n",
       " Sprint planning resources\n",
       "Sprint boards and retrospectives\n",
       "Team resources and definitions\n",
       " Sprint planning checklist\n",
       " \n",
       " Sprint team members\n",
       " \n",
       " Sprint planning meeting items\n",
       "Use this template to structure your meeting, set expectations and goals, and define the backlog for the upcoming sprint. For detailed \n",
       "instructions and best practices, see our sprint planning guide and review how to estimate story points.This template is brought to you by Jira, Atlassian's project and issue tracker. Customize this template with information and resources \n",
       "your team uses each sprint to save prep time.\n",
       "Preparation Meeting Follow up\n",
       "organise the backlog and \n",
       "close the last sprintconfirm team capacity update Jira tickets\n",
       "Ram SDE2\n",
       "Sita SDE1\n",
       "  Name Role...</td>\n",
       "      <td id=\"T_9b37f_row0_col3\" class=\"data row0 col3\" >query='Who are the team members mentioned in the Sprint team members section?' contexts=[\"JIRA\\n Sprint planning checklist\\n Sprint team members\\n Sprint planning meeting items\\nAgenda\\nPrevious sprint summary\\nDetails\\nVelocity tracking\\nAdjusted velocity tracking\\nCapacity planning\\nPotential risks\\n Sprint planning resources\\nSprint boards and retrospectives\\nTeam resources and definitions\\n Sprint planning checklist\\n \\n Sprint team members\\n \\n Sprint planning meeting items\\nUse this template to structure your meeting, set expectations and goals, and define the backlog for the upcoming sprint. For detailed \\ninstructions and best practices, see our sprint planning guide and review how to estimate story points.This template is brought to you by Jira, Atlassian's project and issue tracker. Customize this template with information and resources \\nyour team uses each sprint to save prep time.\\nPreparation Meeting Follow up\\norganise the backlog and \\nclose the last sprintconfirm team capacity update Jira tickets\\nRam SDE2\\nSita SDE1\\n  Name Role\", 'Sprint planning resources\\nSprint boards and retrospectives\\n \\nTeam resources and definitions'] response='Ram SDE2 and Sita SDE1.' passing=True feedback='YES' score=1.0 pairwise_source=None invalid_result=False invalid_reason=None</td>\n",
       "    </tr>\n",
       "  </tbody>\n",
       "</table>\n"
      ],
      "text/plain": [
       "<pandas.io.formats.style.Styler at 0x17efb26a0>"
      ]
     },
     "metadata": {},
     "output_type": "display_data"
    }
   ],
   "source": [
    "from llama_index.core import Response\n",
    "import pandas as pd\n",
    "\n",
    "# Function to display evaluation results in a DataFrame\n",
    "def display_eval_df(query: str, response: Response, eval_result) -> None:\n",
    "    # Ensure eval_result is a list, even if it contains a single item\n",
    "    if not isinstance(eval_result, list):\n",
    "        eval_result = [eval_result]\n",
    "\n",
    "    # Creating DataFrame\n",
    "    eval_df = pd.DataFrame({\n",
    "        \"Query\": [query] * len(eval_result),\n",
    "        \"Response\": [str(response)] * len(eval_result),\n",
    "        \"Source\": [response.source_nodes[0].node.get_content()[:1000] + \"...\"] * len(eval_result),\n",
    "        \"Evaluation Result\": eval_result,\n",
    "    })\n",
    "\n",
    "    # Styling DataFrame\n",
    "    eval_df = eval_df.style.set_properties(\n",
    "        **{\n",
    "            \"inline-size\": \"0px\",\n",
    "            \"overflow-wrap\": \"break-word\",\n",
    "        },\n",
    "        subset=[\"Response\", \"Source\"]\n",
    "    )\n",
    "    display(eval_df)\n",
    "\n",
    "# Example usage\n",
    "response_vector = query_engine.query(eval_questions[2])\n",
    "eval_result = evaluator.evaluate_response(\n",
    "    query=eval_questions[2], response=response_vector\n",
    ")\n",
    "display_eval_df(eval_questions[2], response_vector, eval_result)\n"
   ]
  },
  {
   "cell_type": "markdown",
   "metadata": {},
   "source": [
    "### This is done so that in future: we can automate the ground truth part"
   ]
  },
  {
   "cell_type": "code",
   "execution_count": 186,
   "metadata": {},
   "outputs": [],
   "source": [
    "from llama_index.core import Document\n",
    "all_text = \"\"\n",
    "\n",
    "for doc in documents:\n",
    "    all_text += doc.text\n",
    "\n",
    "giant_document = Document(text=all_text)"
   ]
  },
  {
   "cell_type": "code",
   "execution_count": 363,
   "metadata": {},
   "outputs": [
    {
     "data": {
      "text/plain": [
       "Document(id_='86d67a13-8b3c-4dad-9076-16a55dacadf1', embedding=None, metadata={}, excluded_embed_metadata_keys=[], excluded_llm_metadata_keys=[], relationships={}, text=\"JIRA\\n Sprint planning checklist\\n Sprint team members\\n Sprint planning meeting items\\nAgenda\\nPrevious sprint summary\\nDetails\\nVelocity tracking\\nAdjusted velocity tracking\\nCapacity planning\\nPotential risks\\n Sprint planning resources\\nSprint boards and retrospectives\\nTeam resources and definitions\\n Sprint planning checklist\\n \\n Sprint team members\\n \\n Sprint planning meeting items\\nUse this template to structure your meeting, set expectations and goals, and define the backlog for the upcoming sprint. For detailed \\ninstructions and best practices, see our sprint planning guide and review how to estimate story points.This template is brought to you by Jira, Atlassian's project and issue tracker. Customize this template with information and resources \\nyour team uses each sprint to save prep time.\\nPreparation Meeting Follow up\\norganise the backlog and \\nclose the last sprintconfirm team capacity update Jira tickets\\nRam SDE2\\nSita SDE1\\n  Name RoleAgenda\\n1. Close previous sprint\\n2.  \\nPrevious sprint summary\\nDetails\\nVelocity tracking\\nAdjusted velocity tracking\\nCapacity planning\\nPotential risks\\n Story points Story 1: 5 points, Story 2: 8 points, Story 3: 3 points\\nSummary Develop login and registration functionality (Story Points: 8)Sprint theme Stabilizing the platform by addressing critical bugs\\nEnd date 27/01/2024\\nSprint theme Stabilizing the platform by addressing critical bugsStart date 07/01/2024\\nYou can customize this template to change or add capacity measurements. You can also review older sprints by adding columns.\\nTotal days 20 days 10 days\\nTeam capacity 80% 70%\\nProjected capacity50 points 30 points\\nIndividual capacity 1. Ram:40 hours \\n2. Sita: 45 hours \\n 1. Ram:30 hours \\n2. Sita: 25 hours Current sprint Previous sprint\\nThe team has smaller buffer than expected The team might need to load low priority work to \\nbacklog\\n \\n  Risk Mitigation\\nRisk Mitigation Sprint planning resources\\nSprint boards and retrospectives\\n \\nTeam resources and definitions\\n Incident\\n Week: July 9-17,2024\\nINC2024\\n-001In \\nProgre\\nss2024-\\n07-09 \\n15:32P1 JohnJane 2024-\\n07-09 \\n10:00Website outage \\naffecting login \\nfunctionalityCustomer \\nPortal,API \\nendpointsInvestigation \\nongoing , \\nLogs \\nreviewed for \\nerrorsTicket \\n#TCK2024\\n-005 (for \\nlogin \\nissues)\\n           \\n           Incident \\nIDStatu\\nsLast \\nupdate\\ndPrior\\nityOwn\\nerRepo\\nrterDate \\ncreat\\nedSummary Affected \\nservicesDocumentat\\nionRelated \\nrecords\", mimetype='text/plain', start_char_idx=None, end_char_idx=None, text_template='{metadata_str}\\n\\n{content}', metadata_template='{key}: {value}', metadata_seperator='\\n')"
      ]
     },
     "execution_count": 363,
     "metadata": {},
     "output_type": "execute_result"
    }
   ],
   "source": [
    "giant_document"
   ]
  },
  {
   "cell_type": "markdown",
   "metadata": {},
   "source": [
    "## Generating questions"
   ]
  },
  {
   "cell_type": "code",
   "execution_count": 193,
   "metadata": {},
   "outputs": [],
   "source": [
    "import os\n",
    "import random\n",
    "random.seed(42)\n",
    "\n",
    "from llama_index.core import ServiceContext\n",
    "from llama_index.core.prompts import Prompt\n",
    "from llama_index.core.evaluation import DatasetGenerator\n",
    "\n",
    "question_dataset = []\n",
    "if os.path.exists(\"questions.txt\"):\n",
    "    with open(\"questions.txt\", \"r\") as f:\n",
    "        for line in f:\n",
    "            question_dataset.append(line.strip())\n",
    "else:\n",
    "    # generate questions\n",
    "    data_generator = DatasetGenerator.from_documents(\n",
    "        [giant_document],\n",
    "        text_question_template=Prompt(\n",
    "            \"A sample from the LlamaIndex documentation is below.\\n\"\n",
    "            \"---------------------\\n\"\n",
    "            \"{context_str}\\n\"\n",
    "            \"---------------------\\n\"\n",
    "            \"Using the documentation sample, carefully follow the instructions below:\\n\"\n",
    "            \"{query_str}\"\n",
    "        ),\n",
    "        question_gen_query=(\n",
    "            \"You are an evaluator for a search pipeline. Your task is to write a single question \"\n",
    "            \"using the provided documentation sample above to test the search pipeline. The question should \"\n",
    "            \"reference specific names, functions, and terms. Restrict the question to the \"\n",
    "            \"context information provided.\\n\"\n",
    "            \"Question: \"\n",
    "        ),\n",
    "       \n",
    "    )\n",
    "    generated_questions = data_generator.generate_questions_from_nodes()\n",
    "\n",
    "    # randomly pick 40 questions from each dataset\n",
    "    generated_questions = random.sample(generated_questions, 40)\n",
    "    question_dataset.extend(generated_questions)\n",
    "\n",
    "    print(f\"Generated {len(question_dataset)} questions.\")"
   ]
  },
  {
   "cell_type": "code",
   "execution_count": 194,
   "metadata": {},
   "outputs": [
    {
     "name": "stdout",
     "output_type": "stream",
     "text": [
      "['What is the risk mitigation strategy suggested if the team has a smaller buffer than expected?', 'What is the purpose of the Sprint planning meeting items section?', 'Who are the team members mentioned in the Sprint team members section?', 'Who are the two team members mentioned in the capacity planning section?', 'How many hours does Ram have available for the current sprint?']\n"
     ]
    }
   ],
   "source": [
    "print(random.sample(question_dataset, 5))\n"
   ]
  },
  {
   "cell_type": "markdown",
   "metadata": {},
   "source": [
    "## Taking two text files : questions.txt and ground_truth.txt\n",
    "## We generate responses for all questions in questions.txt.\n",
    "## We compare these responses with ground_truth.txt\n",
    "## To find hallucination score of each\n",
    "## and therefore average hallucination score = Accuracy"
   ]
  },
  {
   "cell_type": "code",
   "execution_count": 367,
   "metadata": {},
   "outputs": [],
   "source": [
    "from sentence_transformers import CrossEncoder \n",
    "model = CrossEncoder(\"vectara/hallucination_evaluation_model\")\n"
   ]
  },
  {
   "cell_type": "code",
   "execution_count": 221,
   "metadata": {},
   "outputs": [],
   "source": [
    "def load_questions(file_path):\n",
    "    with open(file_path, 'r') as file:\n",
    "        questions = file.readlines()\n",
    "    questions = [q.strip() for q in questions]  # Remove any leading/trailing whitespace\n",
    "    return questions\n"
   ]
  },
  {
   "cell_type": "code",
   "execution_count": 282,
   "metadata": {},
   "outputs": [],
   "source": [
    "questions = load_questions(\"questions.txt\")"
   ]
  },
  {
   "cell_type": "code",
   "execution_count": 283,
   "metadata": {},
   "outputs": [],
   "source": [
    "# Evaluate the model with the questions\n",
    "def evaluate_model(questions):\n",
    "    responses = []\n",
    "    for question in questions:\n",
    "        response = query_engine.query(question)\n",
    "          # Assuming `model` is a callable that takes a question and returns a response\n",
    "        responses.append(response)\n",
    "    return responses"
   ]
  },
  {
   "cell_type": "code",
   "execution_count": 284,
   "metadata": {},
   "outputs": [],
   "source": [
    "responses = evaluate_model(questions)"
   ]
  },
  {
   "cell_type": "code",
   "execution_count": 285,
   "metadata": {},
   "outputs": [
    {
     "data": {
      "text/plain": [
       "[Response(response='Ram SDE2 and Sita SDE1.', source_nodes=[NodeWithScore(node=TextNode(id_='621c1c1c-0a32-4dc5-af03-c1954797b064', embedding=None, metadata={'page_label': '1', 'file_name': 'template.pdf', 'file_path': '/Users/chirag/Documents/data/data/template.pdf', 'file_type': 'application/pdf', 'file_size': 132191, 'creation_date': '2024-07-08', 'last_modified_date': '2024-07-02'}, excluded_embed_metadata_keys=['file_name', 'file_type', 'file_size', 'creation_date', 'last_modified_date', 'last_accessed_date'], excluded_llm_metadata_keys=['file_name', 'file_type', 'file_size', 'creation_date', 'last_modified_date', 'last_accessed_date'], relationships={<NodeRelationship.SOURCE: '1'>: RelatedNodeInfo(node_id='39403c67-4dcc-442f-ae06-a80783ec6cad', node_type=<ObjectType.DOCUMENT: '4'>, metadata={'page_label': '1', 'file_name': 'template.pdf', 'file_path': '/Users/chirag/Documents/data/data/template.pdf', 'file_type': 'application/pdf', 'file_size': 132191, 'creation_date': '2024-07-08', 'last_modified_date': '2024-07-02'}, hash='15f84236b8b1ce79d21cdf66c9bda87580b30d06b3d4be30956a0257d35e8191')}, text=\"JIRA\\n Sprint planning checklist\\n Sprint team members\\n Sprint planning meeting items\\nAgenda\\nPrevious sprint summary\\nDetails\\nVelocity tracking\\nAdjusted velocity tracking\\nCapacity planning\\nPotential risks\\n Sprint planning resources\\nSprint boards and retrospectives\\nTeam resources and definitions\\n Sprint planning checklist\\n \\n Sprint team members\\n \\n Sprint planning meeting items\\nUse this template to structure your meeting, set expectations and goals, and define the backlog for the upcoming sprint. For detailed \\ninstructions and best practices, see our sprint planning guide and review how to estimate story points.This template is brought to you by Jira, Atlassian's project and issue tracker. Customize this template with information and resources \\nyour team uses each sprint to save prep time.\\nPreparation Meeting Follow up\\norganise the backlog and \\nclose the last sprintconfirm team capacity update Jira tickets\\nRam SDE2\\nSita SDE1\\n  Name Role\", mimetype='text/plain', start_char_idx=0, end_char_idx=945, text_template='{metadata_str}\\n\\n{content}', metadata_template='{key}: {value}', metadata_seperator='\\n'), score=0.6119288936801534), NodeWithScore(node=TextNode(id_='a9df3d1e-4c6c-4a96-9c2d-1cd0e637fe4f', embedding=None, metadata={'page_label': '3', 'file_name': 'template.pdf', 'file_path': '/Users/chirag/Documents/data/data/template.pdf', 'file_type': 'application/pdf', 'file_size': 132191, 'creation_date': '2024-07-08', 'last_modified_date': '2024-07-02'}, excluded_embed_metadata_keys=['file_name', 'file_type', 'file_size', 'creation_date', 'last_modified_date', 'last_accessed_date'], excluded_llm_metadata_keys=['file_name', 'file_type', 'file_size', 'creation_date', 'last_modified_date', 'last_accessed_date'], relationships={<NodeRelationship.SOURCE: '1'>: RelatedNodeInfo(node_id='7bf0959e-2cf6-4bc3-af8b-6af3313b83ce', node_type=<ObjectType.DOCUMENT: '4'>, metadata={'page_label': '3', 'file_name': 'template.pdf', 'file_path': '/Users/chirag/Documents/data/data/template.pdf', 'file_type': 'application/pdf', 'file_size': 132191, 'creation_date': '2024-07-08', 'last_modified_date': '2024-07-02'}, hash='22cea954773d9e6421f800855586f302dec3b62802ef2d0ec237ff8951cbee1e')}, text='Sprint planning resources\\nSprint boards and retrospectives\\n \\nTeam resources and definitions', mimetype='text/plain', start_char_idx=1, end_char_idx=92, text_template='{metadata_str}\\n\\n{content}', metadata_template='{key}: {value}', metadata_seperator='\\n'), score=0.6021031011462604)], metadata={'621c1c1c-0a32-4dc5-af03-c1954797b064': {'page_label': '1', 'file_name': 'template.pdf', 'file_path': '/Users/chirag/Documents/data/data/template.pdf', 'file_type': 'application/pdf', 'file_size': 132191, 'creation_date': '2024-07-08', 'last_modified_date': '2024-07-02'}, 'a9df3d1e-4c6c-4a96-9c2d-1cd0e637fe4f': {'page_label': '3', 'file_name': 'template.pdf', 'file_path': '/Users/chirag/Documents/data/data/template.pdf', 'file_type': 'application/pdf', 'file_size': 132191, 'creation_date': '2024-07-08', 'last_modified_date': '2024-07-02'}, 'selector_result': MultiSelection(selections=[SingleSelection(index=0, reason=\"Since the question asks about specific team members, it's most relevant to search for specific facts.\")])}),\n",
       " Response(response='The purpose of the \"Sprint planning meeting items\" section is to structure the meeting, set expectations and goals, and define the backlog for the upcoming sprint.', source_nodes=[NodeWithScore(node=TextNode(id_='621c1c1c-0a32-4dc5-af03-c1954797b064', embedding=None, metadata={'page_label': '1', 'file_name': 'template.pdf', 'file_path': '/Users/chirag/Documents/data/data/template.pdf', 'file_type': 'application/pdf', 'file_size': 132191, 'creation_date': '2024-07-08', 'last_modified_date': '2024-07-02'}, excluded_embed_metadata_keys=['file_name', 'file_type', 'file_size', 'creation_date', 'last_modified_date', 'last_accessed_date'], excluded_llm_metadata_keys=['file_name', 'file_type', 'file_size', 'creation_date', 'last_modified_date', 'last_accessed_date'], relationships={<NodeRelationship.SOURCE: '1'>: RelatedNodeInfo(node_id='39403c67-4dcc-442f-ae06-a80783ec6cad', node_type=<ObjectType.DOCUMENT: '4'>, metadata={'page_label': '1', 'file_name': 'template.pdf', 'file_path': '/Users/chirag/Documents/data/data/template.pdf', 'file_type': 'application/pdf', 'file_size': 132191, 'creation_date': '2024-07-08', 'last_modified_date': '2024-07-02'}, hash='15f84236b8b1ce79d21cdf66c9bda87580b30d06b3d4be30956a0257d35e8191')}, text=\"JIRA\\n Sprint planning checklist\\n Sprint team members\\n Sprint planning meeting items\\nAgenda\\nPrevious sprint summary\\nDetails\\nVelocity tracking\\nAdjusted velocity tracking\\nCapacity planning\\nPotential risks\\n Sprint planning resources\\nSprint boards and retrospectives\\nTeam resources and definitions\\n Sprint planning checklist\\n \\n Sprint team members\\n \\n Sprint planning meeting items\\nUse this template to structure your meeting, set expectations and goals, and define the backlog for the upcoming sprint. For detailed \\ninstructions and best practices, see our sprint planning guide and review how to estimate story points.This template is brought to you by Jira, Atlassian's project and issue tracker. Customize this template with information and resources \\nyour team uses each sprint to save prep time.\\nPreparation Meeting Follow up\\norganise the backlog and \\nclose the last sprintconfirm team capacity update Jira tickets\\nRam SDE2\\nSita SDE1\\n  Name Role\", mimetype='text/plain', start_char_idx=0, end_char_idx=945, text_template='{metadata_str}\\n\\n{content}', metadata_template='{key}: {value}', metadata_seperator='\\n'), score=0.7202220153410628), NodeWithScore(node=TextNode(id_='a9df3d1e-4c6c-4a96-9c2d-1cd0e637fe4f', embedding=None, metadata={'page_label': '3', 'file_name': 'template.pdf', 'file_path': '/Users/chirag/Documents/data/data/template.pdf', 'file_type': 'application/pdf', 'file_size': 132191, 'creation_date': '2024-07-08', 'last_modified_date': '2024-07-02'}, excluded_embed_metadata_keys=['file_name', 'file_type', 'file_size', 'creation_date', 'last_modified_date', 'last_accessed_date'], excluded_llm_metadata_keys=['file_name', 'file_type', 'file_size', 'creation_date', 'last_modified_date', 'last_accessed_date'], relationships={<NodeRelationship.SOURCE: '1'>: RelatedNodeInfo(node_id='7bf0959e-2cf6-4bc3-af8b-6af3313b83ce', node_type=<ObjectType.DOCUMENT: '4'>, metadata={'page_label': '3', 'file_name': 'template.pdf', 'file_path': '/Users/chirag/Documents/data/data/template.pdf', 'file_type': 'application/pdf', 'file_size': 132191, 'creation_date': '2024-07-08', 'last_modified_date': '2024-07-02'}, hash='22cea954773d9e6421f800855586f302dec3b62802ef2d0ec237ff8951cbee1e')}, text='Sprint planning resources\\nSprint boards and retrospectives\\n \\nTeam resources and definitions', mimetype='text/plain', start_char_idx=1, end_char_idx=92, text_template='{metadata_str}\\n\\n{content}', metadata_template='{key}: {value}', metadata_seperator='\\n'), score=0.6443634026293601)], metadata={'621c1c1c-0a32-4dc5-af03-c1954797b064': {'page_label': '1', 'file_name': 'template.pdf', 'file_path': '/Users/chirag/Documents/data/data/template.pdf', 'file_type': 'application/pdf', 'file_size': 132191, 'creation_date': '2024-07-08', 'last_modified_date': '2024-07-02'}, 'a9df3d1e-4c6c-4a96-9c2d-1cd0e637fe4f': {'page_label': '3', 'file_name': 'template.pdf', 'file_path': '/Users/chirag/Documents/data/data/template.pdf', 'file_type': 'application/pdf', 'file_size': 132191, 'creation_date': '2024-07-08', 'last_modified_date': '2024-07-02'}, 'selector_result': MultiSelection(selections=[SingleSelection(index=0, reason='The question asks about the purpose of the Sprint planning meeting items section, which suggests searching for specific facts.')])}),\n",
       " Response(response='Some of the topics covered in the Sprint planning resources section include Sprint boards and retrospectives, Team resources and definitions.', source_nodes=[NodeWithScore(node=TextNode(id_='a9df3d1e-4c6c-4a96-9c2d-1cd0e637fe4f', embedding=None, metadata={'page_label': '3', 'file_name': 'template.pdf', 'file_path': '/Users/chirag/Documents/data/data/template.pdf', 'file_type': 'application/pdf', 'file_size': 132191, 'creation_date': '2024-07-08', 'last_modified_date': '2024-07-02'}, excluded_embed_metadata_keys=['file_name', 'file_type', 'file_size', 'creation_date', 'last_modified_date', 'last_accessed_date'], excluded_llm_metadata_keys=['file_name', 'file_type', 'file_size', 'creation_date', 'last_modified_date', 'last_accessed_date'], relationships={<NodeRelationship.SOURCE: '1'>: RelatedNodeInfo(node_id='7bf0959e-2cf6-4bc3-af8b-6af3313b83ce', node_type=<ObjectType.DOCUMENT: '4'>, metadata={'page_label': '3', 'file_name': 'template.pdf', 'file_path': '/Users/chirag/Documents/data/data/template.pdf', 'file_type': 'application/pdf', 'file_size': 132191, 'creation_date': '2024-07-08', 'last_modified_date': '2024-07-02'}, hash='22cea954773d9e6421f800855586f302dec3b62802ef2d0ec237ff8951cbee1e')}, text='Sprint planning resources\\nSprint boards and retrospectives\\n \\nTeam resources and definitions', mimetype='text/plain', start_char_idx=1, end_char_idx=92, text_template='{metadata_str}\\n\\n{content}', metadata_template='{key}: {value}', metadata_seperator='\\n'), score=0.693141743839634), NodeWithScore(node=TextNode(id_='621c1c1c-0a32-4dc5-af03-c1954797b064', embedding=None, metadata={'page_label': '1', 'file_name': 'template.pdf', 'file_path': '/Users/chirag/Documents/data/data/template.pdf', 'file_type': 'application/pdf', 'file_size': 132191, 'creation_date': '2024-07-08', 'last_modified_date': '2024-07-02'}, excluded_embed_metadata_keys=['file_name', 'file_type', 'file_size', 'creation_date', 'last_modified_date', 'last_accessed_date'], excluded_llm_metadata_keys=['file_name', 'file_type', 'file_size', 'creation_date', 'last_modified_date', 'last_accessed_date'], relationships={<NodeRelationship.SOURCE: '1'>: RelatedNodeInfo(node_id='39403c67-4dcc-442f-ae06-a80783ec6cad', node_type=<ObjectType.DOCUMENT: '4'>, metadata={'page_label': '1', 'file_name': 'template.pdf', 'file_path': '/Users/chirag/Documents/data/data/template.pdf', 'file_type': 'application/pdf', 'file_size': 132191, 'creation_date': '2024-07-08', 'last_modified_date': '2024-07-02'}, hash='15f84236b8b1ce79d21cdf66c9bda87580b30d06b3d4be30956a0257d35e8191')}, text=\"JIRA\\n Sprint planning checklist\\n Sprint team members\\n Sprint planning meeting items\\nAgenda\\nPrevious sprint summary\\nDetails\\nVelocity tracking\\nAdjusted velocity tracking\\nCapacity planning\\nPotential risks\\n Sprint planning resources\\nSprint boards and retrospectives\\nTeam resources and definitions\\n Sprint planning checklist\\n \\n Sprint team members\\n \\n Sprint planning meeting items\\nUse this template to structure your meeting, set expectations and goals, and define the backlog for the upcoming sprint. For detailed \\ninstructions and best practices, see our sprint planning guide and review how to estimate story points.This template is brought to you by Jira, Atlassian's project and issue tracker. Customize this template with information and resources \\nyour team uses each sprint to save prep time.\\nPreparation Meeting Follow up\\norganise the backlog and \\nclose the last sprintconfirm team capacity update Jira tickets\\nRam SDE2\\nSita SDE1\\n  Name Role\", mimetype='text/plain', start_char_idx=0, end_char_idx=945, text_template='{metadata_str}\\n\\n{content}', metadata_template='{key}: {value}', metadata_seperator='\\n'), score=0.6871764118553635)], metadata={'a9df3d1e-4c6c-4a96-9c2d-1cd0e637fe4f': {'page_label': '3', 'file_name': 'template.pdf', 'file_path': '/Users/chirag/Documents/data/data/template.pdf', 'file_type': 'application/pdf', 'file_size': 132191, 'creation_date': '2024-07-08', 'last_modified_date': '2024-07-02'}, '621c1c1c-0a32-4dc5-af03-c1954797b064': {'page_label': '1', 'file_name': 'template.pdf', 'file_path': '/Users/chirag/Documents/data/data/template.pdf', 'file_type': 'application/pdf', 'file_size': 132191, 'creation_date': '2024-07-08', 'last_modified_date': '2024-07-02'}, 'selector_result': MultiSelection(selections=[SingleSelection(index=0, reason='This option seems relevant to searching for specific facts about the Sprint planning resources section.')])}),\n",
       " Response(response='The two team members mentioned in the capacity planning section are Ram and Sita.', source_nodes=[NodeWithScore(node=TextNode(id_='621c1c1c-0a32-4dc5-af03-c1954797b064', embedding=None, metadata={'page_label': '1', 'file_name': 'template.pdf', 'file_path': '/Users/chirag/Documents/data/data/template.pdf', 'file_type': 'application/pdf', 'file_size': 132191, 'creation_date': '2024-07-08', 'last_modified_date': '2024-07-02'}, excluded_embed_metadata_keys=['file_name', 'file_type', 'file_size', 'creation_date', 'last_modified_date', 'last_accessed_date'], excluded_llm_metadata_keys=['file_name', 'file_type', 'file_size', 'creation_date', 'last_modified_date', 'last_accessed_date'], relationships={<NodeRelationship.SOURCE: '1'>: RelatedNodeInfo(node_id='39403c67-4dcc-442f-ae06-a80783ec6cad', node_type=<ObjectType.DOCUMENT: '4'>, metadata={'page_label': '1', 'file_name': 'template.pdf', 'file_path': '/Users/chirag/Documents/data/data/template.pdf', 'file_type': 'application/pdf', 'file_size': 132191, 'creation_date': '2024-07-08', 'last_modified_date': '2024-07-02'}, hash='15f84236b8b1ce79d21cdf66c9bda87580b30d06b3d4be30956a0257d35e8191')}, text=\"JIRA\\n Sprint planning checklist\\n Sprint team members\\n Sprint planning meeting items\\nAgenda\\nPrevious sprint summary\\nDetails\\nVelocity tracking\\nAdjusted velocity tracking\\nCapacity planning\\nPotential risks\\n Sprint planning resources\\nSprint boards and retrospectives\\nTeam resources and definitions\\n Sprint planning checklist\\n \\n Sprint team members\\n \\n Sprint planning meeting items\\nUse this template to structure your meeting, set expectations and goals, and define the backlog for the upcoming sprint. For detailed \\ninstructions and best practices, see our sprint planning guide and review how to estimate story points.This template is brought to you by Jira, Atlassian's project and issue tracker. Customize this template with information and resources \\nyour team uses each sprint to save prep time.\\nPreparation Meeting Follow up\\norganise the backlog and \\nclose the last sprintconfirm team capacity update Jira tickets\\nRam SDE2\\nSita SDE1\\n  Name Role\", mimetype='text/plain', start_char_idx=0, end_char_idx=945, text_template='{metadata_str}\\n\\n{content}', metadata_template='{key}: {value}', metadata_seperator='\\n'), score=0.5412784065092617), NodeWithScore(node=TextNode(id_='32c4407c-38b5-4c35-a72d-e51ac01207b1', embedding=None, metadata={'page_label': '2', 'file_name': 'template.pdf', 'file_path': '/Users/chirag/Documents/data/data/template.pdf', 'file_type': 'application/pdf', 'file_size': 132191, 'creation_date': '2024-07-08', 'last_modified_date': '2024-07-02'}, excluded_embed_metadata_keys=['file_name', 'file_type', 'file_size', 'creation_date', 'last_modified_date', 'last_accessed_date'], excluded_llm_metadata_keys=['file_name', 'file_type', 'file_size', 'creation_date', 'last_modified_date', 'last_accessed_date'], relationships={<NodeRelationship.SOURCE: '1'>: RelatedNodeInfo(node_id='42b6e57d-a358-474e-9e5f-d48963276432', node_type=<ObjectType.DOCUMENT: '4'>, metadata={'page_label': '2', 'file_name': 'template.pdf', 'file_path': '/Users/chirag/Documents/data/data/template.pdf', 'file_type': 'application/pdf', 'file_size': 132191, 'creation_date': '2024-07-08', 'last_modified_date': '2024-07-02'}, hash='068b9b49067da3ea36febb05dc213fdd33d38f73805c6f449589dd636096b244')}, text='Agenda\\n1. Close previous sprint\\n2.  \\nPrevious sprint summary\\nDetails\\nVelocity tracking\\nAdjusted velocity tracking\\nCapacity planning\\nPotential risks\\n Story points Story 1: 5 points, Story 2: 8 points, Story 3: 3 points\\nSummary Develop login and registration functionality (Story Points: 8)Sprint theme Stabilizing the platform by addressing critical bugs\\nEnd date 27/01/2024\\nSprint theme Stabilizing the platform by addressing critical bugsStart date 07/01/2024\\nYou can customize this template to change or add capacity measurements. You can also review older sprints by adding columns.\\nTotal days 20 days 10 days\\nTeam capacity 80% 70%\\nProjected capacity50 points 30 points\\nIndividual capacity 1. Ram:40 hours \\n2. Sita: 45 hours \\n 1. Ram:30 hours \\n2. Sita: 25 hours Current sprint Previous sprint\\nThe team has smaller buffer than expected The team might need to load low priority work to \\nbacklog\\n \\n  Risk Mitigation\\nRisk Mitigation', mimetype='text/plain', start_char_idx=0, end_char_idx=931, text_template='{metadata_str}\\n\\n{content}', metadata_template='{key}: {value}', metadata_seperator='\\n'), score=0.5129759864840985)], metadata={'621c1c1c-0a32-4dc5-af03-c1954797b064': {'page_label': '1', 'file_name': 'template.pdf', 'file_path': '/Users/chirag/Documents/data/data/template.pdf', 'file_type': 'application/pdf', 'file_size': 132191, 'creation_date': '2024-07-08', 'last_modified_date': '2024-07-02'}, '32c4407c-38b5-4c35-a72d-e51ac01207b1': {'page_label': '2', 'file_name': 'template.pdf', 'file_path': '/Users/chirag/Documents/data/data/template.pdf', 'file_type': 'application/pdf', 'file_size': 132191, 'creation_date': '2024-07-08', 'last_modified_date': '2024-07-02'}, 'selector_result': MultiSelection(selections=[SingleSelection(index=0, reason=\"Since the question asks about specific team members, it's more relevant to search for specific facts.\")])}),\n",
       " Response(response='Stabilizing the platform by addressing critical bugs.', source_nodes=[NodeWithScore(node=TextNode(id_='32c4407c-38b5-4c35-a72d-e51ac01207b1', embedding=None, metadata={'page_label': '2', 'file_name': 'template.pdf', 'file_path': '/Users/chirag/Documents/data/data/template.pdf', 'file_type': 'application/pdf', 'file_size': 132191, 'creation_date': '2024-07-08', 'last_modified_date': '2024-07-02'}, excluded_embed_metadata_keys=['file_name', 'file_type', 'file_size', 'creation_date', 'last_modified_date', 'last_accessed_date'], excluded_llm_metadata_keys=['file_name', 'file_type', 'file_size', 'creation_date', 'last_modified_date', 'last_accessed_date'], relationships={<NodeRelationship.SOURCE: '1'>: RelatedNodeInfo(node_id='42b6e57d-a358-474e-9e5f-d48963276432', node_type=<ObjectType.DOCUMENT: '4'>, metadata={'page_label': '2', 'file_name': 'template.pdf', 'file_path': '/Users/chirag/Documents/data/data/template.pdf', 'file_type': 'application/pdf', 'file_size': 132191, 'creation_date': '2024-07-08', 'last_modified_date': '2024-07-02'}, hash='068b9b49067da3ea36febb05dc213fdd33d38f73805c6f449589dd636096b244')}, text='Agenda\\n1. Close previous sprint\\n2.  \\nPrevious sprint summary\\nDetails\\nVelocity tracking\\nAdjusted velocity tracking\\nCapacity planning\\nPotential risks\\n Story points Story 1: 5 points, Story 2: 8 points, Story 3: 3 points\\nSummary Develop login and registration functionality (Story Points: 8)Sprint theme Stabilizing the platform by addressing critical bugs\\nEnd date 27/01/2024\\nSprint theme Stabilizing the platform by addressing critical bugsStart date 07/01/2024\\nYou can customize this template to change or add capacity measurements. You can also review older sprints by adding columns.\\nTotal days 20 days 10 days\\nTeam capacity 80% 70%\\nProjected capacity50 points 30 points\\nIndividual capacity 1. Ram:40 hours \\n2. Sita: 45 hours \\n 1. Ram:30 hours \\n2. Sita: 25 hours Current sprint Previous sprint\\nThe team has smaller buffer than expected The team might need to load low priority work to \\nbacklog\\n \\n  Risk Mitigation\\nRisk Mitigation', mimetype='text/plain', start_char_idx=0, end_char_idx=931, text_template='{metadata_str}\\n\\n{content}', metadata_template='{key}: {value}', metadata_seperator='\\n'), score=0.6669160729358676), NodeWithScore(node=TextNode(id_='621c1c1c-0a32-4dc5-af03-c1954797b064', embedding=None, metadata={'page_label': '1', 'file_name': 'template.pdf', 'file_path': '/Users/chirag/Documents/data/data/template.pdf', 'file_type': 'application/pdf', 'file_size': 132191, 'creation_date': '2024-07-08', 'last_modified_date': '2024-07-02'}, excluded_embed_metadata_keys=['file_name', 'file_type', 'file_size', 'creation_date', 'last_modified_date', 'last_accessed_date'], excluded_llm_metadata_keys=['file_name', 'file_type', 'file_size', 'creation_date', 'last_modified_date', 'last_accessed_date'], relationships={<NodeRelationship.SOURCE: '1'>: RelatedNodeInfo(node_id='39403c67-4dcc-442f-ae06-a80783ec6cad', node_type=<ObjectType.DOCUMENT: '4'>, metadata={'page_label': '1', 'file_name': 'template.pdf', 'file_path': '/Users/chirag/Documents/data/data/template.pdf', 'file_type': 'application/pdf', 'file_size': 132191, 'creation_date': '2024-07-08', 'last_modified_date': '2024-07-02'}, hash='15f84236b8b1ce79d21cdf66c9bda87580b30d06b3d4be30956a0257d35e8191')}, text=\"JIRA\\n Sprint planning checklist\\n Sprint team members\\n Sprint planning meeting items\\nAgenda\\nPrevious sprint summary\\nDetails\\nVelocity tracking\\nAdjusted velocity tracking\\nCapacity planning\\nPotential risks\\n Sprint planning resources\\nSprint boards and retrospectives\\nTeam resources and definitions\\n Sprint planning checklist\\n \\n Sprint team members\\n \\n Sprint planning meeting items\\nUse this template to structure your meeting, set expectations and goals, and define the backlog for the upcoming sprint. For detailed \\ninstructions and best practices, see our sprint planning guide and review how to estimate story points.This template is brought to you by Jira, Atlassian's project and issue tracker. Customize this template with information and resources \\nyour team uses each sprint to save prep time.\\nPreparation Meeting Follow up\\norganise the backlog and \\nclose the last sprintconfirm team capacity update Jira tickets\\nRam SDE2\\nSita SDE1\\n  Name Role\", mimetype='text/plain', start_char_idx=0, end_char_idx=945, text_template='{metadata_str}\\n\\n{content}', metadata_template='{key}: {value}', metadata_seperator='\\n'), score=0.5820509359142451)], metadata={'32c4407c-38b5-4c35-a72d-e51ac01207b1': {'page_label': '2', 'file_name': 'template.pdf', 'file_path': '/Users/chirag/Documents/data/data/template.pdf', 'file_type': 'application/pdf', 'file_size': 132191, 'creation_date': '2024-07-08', 'last_modified_date': '2024-07-02'}, '621c1c1c-0a32-4dc5-af03-c1954797b064': {'page_label': '1', 'file_name': 'template.pdf', 'file_path': '/Users/chirag/Documents/data/data/template.pdf', 'file_type': 'application/pdf', 'file_size': 132191, 'creation_date': '2024-07-08', 'last_modified_date': '2024-07-02'}, 'selector_result': MultiSelection(selections=[SingleSelection(index=0, reason='Searching for specific facts implies finding specific information, which could be related to the theme of a sprint.')])}),\n",
       " Response(response='Story 2 has 8 points.', source_nodes=[NodeWithScore(node=TextNode(id_='32c4407c-38b5-4c35-a72d-e51ac01207b1', embedding=None, metadata={'page_label': '2', 'file_name': 'template.pdf', 'file_path': '/Users/chirag/Documents/data/data/template.pdf', 'file_type': 'application/pdf', 'file_size': 132191, 'creation_date': '2024-07-08', 'last_modified_date': '2024-07-02'}, excluded_embed_metadata_keys=['file_name', 'file_type', 'file_size', 'creation_date', 'last_modified_date', 'last_accessed_date'], excluded_llm_metadata_keys=['file_name', 'file_type', 'file_size', 'creation_date', 'last_modified_date', 'last_accessed_date'], relationships={<NodeRelationship.SOURCE: '1'>: RelatedNodeInfo(node_id='42b6e57d-a358-474e-9e5f-d48963276432', node_type=<ObjectType.DOCUMENT: '4'>, metadata={'page_label': '2', 'file_name': 'template.pdf', 'file_path': '/Users/chirag/Documents/data/data/template.pdf', 'file_type': 'application/pdf', 'file_size': 132191, 'creation_date': '2024-07-08', 'last_modified_date': '2024-07-02'}, hash='068b9b49067da3ea36febb05dc213fdd33d38f73805c6f449589dd636096b244')}, text='Agenda\\n1. Close previous sprint\\n2.  \\nPrevious sprint summary\\nDetails\\nVelocity tracking\\nAdjusted velocity tracking\\nCapacity planning\\nPotential risks\\n Story points Story 1: 5 points, Story 2: 8 points, Story 3: 3 points\\nSummary Develop login and registration functionality (Story Points: 8)Sprint theme Stabilizing the platform by addressing critical bugs\\nEnd date 27/01/2024\\nSprint theme Stabilizing the platform by addressing critical bugsStart date 07/01/2024\\nYou can customize this template to change or add capacity measurements. You can also review older sprints by adding columns.\\nTotal days 20 days 10 days\\nTeam capacity 80% 70%\\nProjected capacity50 points 30 points\\nIndividual capacity 1. Ram:40 hours \\n2. Sita: 45 hours \\n 1. Ram:30 hours \\n2. Sita: 25 hours Current sprint Previous sprint\\nThe team has smaller buffer than expected The team might need to load low priority work to \\nbacklog\\n \\n  Risk Mitigation\\nRisk Mitigation', mimetype='text/plain', start_char_idx=0, end_char_idx=931, text_template='{metadata_str}\\n\\n{content}', metadata_template='{key}: {value}', metadata_seperator='\\n'), score=0.54616344181291), NodeWithScore(node=TextNode(id_='621c1c1c-0a32-4dc5-af03-c1954797b064', embedding=None, metadata={'page_label': '1', 'file_name': 'template.pdf', 'file_path': '/Users/chirag/Documents/data/data/template.pdf', 'file_type': 'application/pdf', 'file_size': 132191, 'creation_date': '2024-07-08', 'last_modified_date': '2024-07-02'}, excluded_embed_metadata_keys=['file_name', 'file_type', 'file_size', 'creation_date', 'last_modified_date', 'last_accessed_date'], excluded_llm_metadata_keys=['file_name', 'file_type', 'file_size', 'creation_date', 'last_modified_date', 'last_accessed_date'], relationships={<NodeRelationship.SOURCE: '1'>: RelatedNodeInfo(node_id='39403c67-4dcc-442f-ae06-a80783ec6cad', node_type=<ObjectType.DOCUMENT: '4'>, metadata={'page_label': '1', 'file_name': 'template.pdf', 'file_path': '/Users/chirag/Documents/data/data/template.pdf', 'file_type': 'application/pdf', 'file_size': 132191, 'creation_date': '2024-07-08', 'last_modified_date': '2024-07-02'}, hash='15f84236b8b1ce79d21cdf66c9bda87580b30d06b3d4be30956a0257d35e8191')}, text=\"JIRA\\n Sprint planning checklist\\n Sprint team members\\n Sprint planning meeting items\\nAgenda\\nPrevious sprint summary\\nDetails\\nVelocity tracking\\nAdjusted velocity tracking\\nCapacity planning\\nPotential risks\\n Sprint planning resources\\nSprint boards and retrospectives\\nTeam resources and definitions\\n Sprint planning checklist\\n \\n Sprint team members\\n \\n Sprint planning meeting items\\nUse this template to structure your meeting, set expectations and goals, and define the backlog for the upcoming sprint. For detailed \\ninstructions and best practices, see our sprint planning guide and review how to estimate story points.This template is brought to you by Jira, Atlassian's project and issue tracker. Customize this template with information and resources \\nyour team uses each sprint to save prep time.\\nPreparation Meeting Follow up\\norganise the backlog and \\nclose the last sprintconfirm team capacity update Jira tickets\\nRam SDE2\\nSita SDE1\\n  Name Role\", mimetype='text/plain', start_char_idx=0, end_char_idx=945, text_template='{metadata_str}\\n\\n{content}', metadata_template='{key}: {value}', metadata_seperator='\\n'), score=0.44760752609670296)], metadata={'32c4407c-38b5-4c35-a72d-e51ac01207b1': {'page_label': '2', 'file_name': 'template.pdf', 'file_path': '/Users/chirag/Documents/data/data/template.pdf', 'file_type': 'application/pdf', 'file_size': 132191, 'creation_date': '2024-07-08', 'last_modified_date': '2024-07-02'}, '621c1c1c-0a32-4dc5-af03-c1954797b064': {'page_label': '1', 'file_name': 'template.pdf', 'file_path': '/Users/chirag/Documents/data/data/template.pdf', 'file_type': 'application/pdf', 'file_size': 132191, 'creation_date': '2024-07-08', 'last_modified_date': '2024-07-02'}, 'selector_result': MultiSelection(selections=[SingleSelection(index=0, reason='No information about story points or Story 2, so not relevant to the question')])}),\n",
       " Response(response='20 days.', source_nodes=[NodeWithScore(node=TextNode(id_='32c4407c-38b5-4c35-a72d-e51ac01207b1', embedding=None, metadata={'page_label': '2', 'file_name': 'template.pdf', 'file_path': '/Users/chirag/Documents/data/data/template.pdf', 'file_type': 'application/pdf', 'file_size': 132191, 'creation_date': '2024-07-08', 'last_modified_date': '2024-07-02'}, excluded_embed_metadata_keys=['file_name', 'file_type', 'file_size', 'creation_date', 'last_modified_date', 'last_accessed_date'], excluded_llm_metadata_keys=['file_name', 'file_type', 'file_size', 'creation_date', 'last_modified_date', 'last_accessed_date'], relationships={<NodeRelationship.SOURCE: '1'>: RelatedNodeInfo(node_id='42b6e57d-a358-474e-9e5f-d48963276432', node_type=<ObjectType.DOCUMENT: '4'>, metadata={'page_label': '2', 'file_name': 'template.pdf', 'file_path': '/Users/chirag/Documents/data/data/template.pdf', 'file_type': 'application/pdf', 'file_size': 132191, 'creation_date': '2024-07-08', 'last_modified_date': '2024-07-02'}, hash='068b9b49067da3ea36febb05dc213fdd33d38f73805c6f449589dd636096b244')}, text='Agenda\\n1. Close previous sprint\\n2.  \\nPrevious sprint summary\\nDetails\\nVelocity tracking\\nAdjusted velocity tracking\\nCapacity planning\\nPotential risks\\n Story points Story 1: 5 points, Story 2: 8 points, Story 3: 3 points\\nSummary Develop login and registration functionality (Story Points: 8)Sprint theme Stabilizing the platform by addressing critical bugs\\nEnd date 27/01/2024\\nSprint theme Stabilizing the platform by addressing critical bugsStart date 07/01/2024\\nYou can customize this template to change or add capacity measurements. You can also review older sprints by adding columns.\\nTotal days 20 days 10 days\\nTeam capacity 80% 70%\\nProjected capacity50 points 30 points\\nIndividual capacity 1. Ram:40 hours \\n2. Sita: 45 hours \\n 1. Ram:30 hours \\n2. Sita: 25 hours Current sprint Previous sprint\\nThe team has smaller buffer than expected The team might need to load low priority work to \\nbacklog\\n \\n  Risk Mitigation\\nRisk Mitigation', mimetype='text/plain', start_char_idx=0, end_char_idx=931, text_template='{metadata_str}\\n\\n{content}', metadata_template='{key}: {value}', metadata_seperator='\\n'), score=0.7288806592127832), NodeWithScore(node=TextNode(id_='621c1c1c-0a32-4dc5-af03-c1954797b064', embedding=None, metadata={'page_label': '1', 'file_name': 'template.pdf', 'file_path': '/Users/chirag/Documents/data/data/template.pdf', 'file_type': 'application/pdf', 'file_size': 132191, 'creation_date': '2024-07-08', 'last_modified_date': '2024-07-02'}, excluded_embed_metadata_keys=['file_name', 'file_type', 'file_size', 'creation_date', 'last_modified_date', 'last_accessed_date'], excluded_llm_metadata_keys=['file_name', 'file_type', 'file_size', 'creation_date', 'last_modified_date', 'last_accessed_date'], relationships={<NodeRelationship.SOURCE: '1'>: RelatedNodeInfo(node_id='39403c67-4dcc-442f-ae06-a80783ec6cad', node_type=<ObjectType.DOCUMENT: '4'>, metadata={'page_label': '1', 'file_name': 'template.pdf', 'file_path': '/Users/chirag/Documents/data/data/template.pdf', 'file_type': 'application/pdf', 'file_size': 132191, 'creation_date': '2024-07-08', 'last_modified_date': '2024-07-02'}, hash='15f84236b8b1ce79d21cdf66c9bda87580b30d06b3d4be30956a0257d35e8191')}, text=\"JIRA\\n Sprint planning checklist\\n Sprint team members\\n Sprint planning meeting items\\nAgenda\\nPrevious sprint summary\\nDetails\\nVelocity tracking\\nAdjusted velocity tracking\\nCapacity planning\\nPotential risks\\n Sprint planning resources\\nSprint boards and retrospectives\\nTeam resources and definitions\\n Sprint planning checklist\\n \\n Sprint team members\\n \\n Sprint planning meeting items\\nUse this template to structure your meeting, set expectations and goals, and define the backlog for the upcoming sprint. For detailed \\ninstructions and best practices, see our sprint planning guide and review how to estimate story points.This template is brought to you by Jira, Atlassian's project and issue tracker. Customize this template with information and resources \\nyour team uses each sprint to save prep time.\\nPreparation Meeting Follow up\\norganise the backlog and \\nclose the last sprintconfirm team capacity update Jira tickets\\nRam SDE2\\nSita SDE1\\n  Name Role\", mimetype='text/plain', start_char_idx=0, end_char_idx=945, text_template='{metadata_str}\\n\\n{content}', metadata_template='{key}: {value}', metadata_seperator='\\n'), score=0.6234709136425078)], metadata={'32c4407c-38b5-4c35-a72d-e51ac01207b1': {'page_label': '2', 'file_name': 'template.pdf', 'file_path': '/Users/chirag/Documents/data/data/template.pdf', 'file_type': 'application/pdf', 'file_size': 132191, 'creation_date': '2024-07-08', 'last_modified_date': '2024-07-02'}, '621c1c1c-0a32-4dc5-af03-c1954797b064': {'page_label': '1', 'file_name': 'template.pdf', 'file_path': '/Users/chirag/Documents/data/data/template.pdf', 'file_type': 'application/pdf', 'file_size': 132191, 'creation_date': '2024-07-08', 'last_modified_date': '2024-07-02'}, 'selector_result': MultiSelection(selections=[SingleSelection(index=0, reason='This option allows searching for specific facts, which could include finding the start and end dates of a sprint to calculate the total days.')])}),\n",
       " Response(response='70%', source_nodes=[NodeWithScore(node=TextNode(id_='32c4407c-38b5-4c35-a72d-e51ac01207b1', embedding=None, metadata={'page_label': '2', 'file_name': 'template.pdf', 'file_path': '/Users/chirag/Documents/data/data/template.pdf', 'file_type': 'application/pdf', 'file_size': 132191, 'creation_date': '2024-07-08', 'last_modified_date': '2024-07-02'}, excluded_embed_metadata_keys=['file_name', 'file_type', 'file_size', 'creation_date', 'last_modified_date', 'last_accessed_date'], excluded_llm_metadata_keys=['file_name', 'file_type', 'file_size', 'creation_date', 'last_modified_date', 'last_accessed_date'], relationships={<NodeRelationship.SOURCE: '1'>: RelatedNodeInfo(node_id='42b6e57d-a358-474e-9e5f-d48963276432', node_type=<ObjectType.DOCUMENT: '4'>, metadata={'page_label': '2', 'file_name': 'template.pdf', 'file_path': '/Users/chirag/Documents/data/data/template.pdf', 'file_type': 'application/pdf', 'file_size': 132191, 'creation_date': '2024-07-08', 'last_modified_date': '2024-07-02'}, hash='068b9b49067da3ea36febb05dc213fdd33d38f73805c6f449589dd636096b244')}, text='Agenda\\n1. Close previous sprint\\n2.  \\nPrevious sprint summary\\nDetails\\nVelocity tracking\\nAdjusted velocity tracking\\nCapacity planning\\nPotential risks\\n Story points Story 1: 5 points, Story 2: 8 points, Story 3: 3 points\\nSummary Develop login and registration functionality (Story Points: 8)Sprint theme Stabilizing the platform by addressing critical bugs\\nEnd date 27/01/2024\\nSprint theme Stabilizing the platform by addressing critical bugsStart date 07/01/2024\\nYou can customize this template to change or add capacity measurements. You can also review older sprints by adding columns.\\nTotal days 20 days 10 days\\nTeam capacity 80% 70%\\nProjected capacity50 points 30 points\\nIndividual capacity 1. Ram:40 hours \\n2. Sita: 45 hours \\n 1. Ram:30 hours \\n2. Sita: 25 hours Current sprint Previous sprint\\nThe team has smaller buffer than expected The team might need to load low priority work to \\nbacklog\\n \\n  Risk Mitigation\\nRisk Mitigation', mimetype='text/plain', start_char_idx=0, end_char_idx=931, text_template='{metadata_str}\\n\\n{content}', metadata_template='{key}: {value}', metadata_seperator='\\n'), score=0.6516069755856371), NodeWithScore(node=TextNode(id_='621c1c1c-0a32-4dc5-af03-c1954797b064', embedding=None, metadata={'page_label': '1', 'file_name': 'template.pdf', 'file_path': '/Users/chirag/Documents/data/data/template.pdf', 'file_type': 'application/pdf', 'file_size': 132191, 'creation_date': '2024-07-08', 'last_modified_date': '2024-07-02'}, excluded_embed_metadata_keys=['file_name', 'file_type', 'file_size', 'creation_date', 'last_modified_date', 'last_accessed_date'], excluded_llm_metadata_keys=['file_name', 'file_type', 'file_size', 'creation_date', 'last_modified_date', 'last_accessed_date'], relationships={<NodeRelationship.SOURCE: '1'>: RelatedNodeInfo(node_id='39403c67-4dcc-442f-ae06-a80783ec6cad', node_type=<ObjectType.DOCUMENT: '4'>, metadata={'page_label': '1', 'file_name': 'template.pdf', 'file_path': '/Users/chirag/Documents/data/data/template.pdf', 'file_type': 'application/pdf', 'file_size': 132191, 'creation_date': '2024-07-08', 'last_modified_date': '2024-07-02'}, hash='15f84236b8b1ce79d21cdf66c9bda87580b30d06b3d4be30956a0257d35e8191')}, text=\"JIRA\\n Sprint planning checklist\\n Sprint team members\\n Sprint planning meeting items\\nAgenda\\nPrevious sprint summary\\nDetails\\nVelocity tracking\\nAdjusted velocity tracking\\nCapacity planning\\nPotential risks\\n Sprint planning resources\\nSprint boards and retrospectives\\nTeam resources and definitions\\n Sprint planning checklist\\n \\n Sprint team members\\n \\n Sprint planning meeting items\\nUse this template to structure your meeting, set expectations and goals, and define the backlog for the upcoming sprint. For detailed \\ninstructions and best practices, see our sprint planning guide and review how to estimate story points.This template is brought to you by Jira, Atlassian's project and issue tracker. Customize this template with information and resources \\nyour team uses each sprint to save prep time.\\nPreparation Meeting Follow up\\norganise the backlog and \\nclose the last sprintconfirm team capacity update Jira tickets\\nRam SDE2\\nSita SDE1\\n  Name Role\", mimetype='text/plain', start_char_idx=0, end_char_idx=945, text_template='{metadata_str}\\n\\n{content}', metadata_template='{key}: {value}', metadata_seperator='\\n'), score=0.5820058630482665)], metadata={'32c4407c-38b5-4c35-a72d-e51ac01207b1': {'page_label': '2', 'file_name': 'template.pdf', 'file_path': '/Users/chirag/Documents/data/data/template.pdf', 'file_type': 'application/pdf', 'file_size': 132191, 'creation_date': '2024-07-08', 'last_modified_date': '2024-07-02'}, '621c1c1c-0a32-4dc5-af03-c1954797b064': {'page_label': '1', 'file_name': 'template.pdf', 'file_path': '/Users/chirag/Documents/data/data/template.pdf', 'file_type': 'application/pdf', 'file_size': 132191, 'creation_date': '2024-07-08', 'last_modified_date': '2024-07-02'}, 'selector_result': MultiSelection(selections=[SingleSelection(index=0, reason='This option is relevant because searching for specific facts implies looking up specific information, which could include finding a percentage of team capacity utilized in the previous sprint.')])}),\n",
       " Response(response='30 hours.', source_nodes=[NodeWithScore(node=TextNode(id_='32c4407c-38b5-4c35-a72d-e51ac01207b1', embedding=None, metadata={'page_label': '2', 'file_name': 'template.pdf', 'file_path': '/Users/chirag/Documents/data/data/template.pdf', 'file_type': 'application/pdf', 'file_size': 132191, 'creation_date': '2024-07-08', 'last_modified_date': '2024-07-02'}, excluded_embed_metadata_keys=['file_name', 'file_type', 'file_size', 'creation_date', 'last_modified_date', 'last_accessed_date'], excluded_llm_metadata_keys=['file_name', 'file_type', 'file_size', 'creation_date', 'last_modified_date', 'last_accessed_date'], relationships={<NodeRelationship.SOURCE: '1'>: RelatedNodeInfo(node_id='42b6e57d-a358-474e-9e5f-d48963276432', node_type=<ObjectType.DOCUMENT: '4'>, metadata={'page_label': '2', 'file_name': 'template.pdf', 'file_path': '/Users/chirag/Documents/data/data/template.pdf', 'file_type': 'application/pdf', 'file_size': 132191, 'creation_date': '2024-07-08', 'last_modified_date': '2024-07-02'}, hash='068b9b49067da3ea36febb05dc213fdd33d38f73805c6f449589dd636096b244')}, text='Agenda\\n1. Close previous sprint\\n2.  \\nPrevious sprint summary\\nDetails\\nVelocity tracking\\nAdjusted velocity tracking\\nCapacity planning\\nPotential risks\\n Story points Story 1: 5 points, Story 2: 8 points, Story 3: 3 points\\nSummary Develop login and registration functionality (Story Points: 8)Sprint theme Stabilizing the platform by addressing critical bugs\\nEnd date 27/01/2024\\nSprint theme Stabilizing the platform by addressing critical bugsStart date 07/01/2024\\nYou can customize this template to change or add capacity measurements. You can also review older sprints by adding columns.\\nTotal days 20 days 10 days\\nTeam capacity 80% 70%\\nProjected capacity50 points 30 points\\nIndividual capacity 1. Ram:40 hours \\n2. Sita: 45 hours \\n 1. Ram:30 hours \\n2. Sita: 25 hours Current sprint Previous sprint\\nThe team has smaller buffer than expected The team might need to load low priority work to \\nbacklog\\n \\n  Risk Mitigation\\nRisk Mitigation', mimetype='text/plain', start_char_idx=0, end_char_idx=931, text_template='{metadata_str}\\n\\n{content}', metadata_template='{key}: {value}', metadata_seperator='\\n'), score=0.7216872839055716), NodeWithScore(node=TextNode(id_='621c1c1c-0a32-4dc5-af03-c1954797b064', embedding=None, metadata={'page_label': '1', 'file_name': 'template.pdf', 'file_path': '/Users/chirag/Documents/data/data/template.pdf', 'file_type': 'application/pdf', 'file_size': 132191, 'creation_date': '2024-07-08', 'last_modified_date': '2024-07-02'}, excluded_embed_metadata_keys=['file_name', 'file_type', 'file_size', 'creation_date', 'last_modified_date', 'last_accessed_date'], excluded_llm_metadata_keys=['file_name', 'file_type', 'file_size', 'creation_date', 'last_modified_date', 'last_accessed_date'], relationships={<NodeRelationship.SOURCE: '1'>: RelatedNodeInfo(node_id='39403c67-4dcc-442f-ae06-a80783ec6cad', node_type=<ObjectType.DOCUMENT: '4'>, metadata={'page_label': '1', 'file_name': 'template.pdf', 'file_path': '/Users/chirag/Documents/data/data/template.pdf', 'file_type': 'application/pdf', 'file_size': 132191, 'creation_date': '2024-07-08', 'last_modified_date': '2024-07-02'}, hash='15f84236b8b1ce79d21cdf66c9bda87580b30d06b3d4be30956a0257d35e8191')}, text=\"JIRA\\n Sprint planning checklist\\n Sprint team members\\n Sprint planning meeting items\\nAgenda\\nPrevious sprint summary\\nDetails\\nVelocity tracking\\nAdjusted velocity tracking\\nCapacity planning\\nPotential risks\\n Sprint planning resources\\nSprint boards and retrospectives\\nTeam resources and definitions\\n Sprint planning checklist\\n \\n Sprint team members\\n \\n Sprint planning meeting items\\nUse this template to structure your meeting, set expectations and goals, and define the backlog for the upcoming sprint. For detailed \\ninstructions and best practices, see our sprint planning guide and review how to estimate story points.This template is brought to you by Jira, Atlassian's project and issue tracker. Customize this template with information and resources \\nyour team uses each sprint to save prep time.\\nPreparation Meeting Follow up\\norganise the backlog and \\nclose the last sprintconfirm team capacity update Jira tickets\\nRam SDE2\\nSita SDE1\\n  Name Role\", mimetype='text/plain', start_char_idx=0, end_char_idx=945, text_template='{metadata_str}\\n\\n{content}', metadata_template='{key}: {value}', metadata_seperator='\\n'), score=0.5934701711189087)], metadata={'32c4407c-38b5-4c35-a72d-e51ac01207b1': {'page_label': '2', 'file_name': 'template.pdf', 'file_path': '/Users/chirag/Documents/data/data/template.pdf', 'file_type': 'application/pdf', 'file_size': 132191, 'creation_date': '2024-07-08', 'last_modified_date': '2024-07-02'}, '621c1c1c-0a32-4dc5-af03-c1954797b064': {'page_label': '1', 'file_name': 'template.pdf', 'file_path': '/Users/chirag/Documents/data/data/template.pdf', 'file_type': 'application/pdf', 'file_size': 132191, 'creation_date': '2024-07-08', 'last_modified_date': '2024-07-02'}, 'selector_result': MultiSelection(selections=[SingleSelection(index=0, reason=\"This option is relevant because it allows searching for specific facts, which could include information about Ram's availability for the current sprint.\")])}),\n",
       " Response(response='The team might need to load low priority work to backlog.', source_nodes=[NodeWithScore(node=TextNode(id_='32c4407c-38b5-4c35-a72d-e51ac01207b1', embedding=None, metadata={'page_label': '2', 'file_name': 'template.pdf', 'file_path': '/Users/chirag/Documents/data/data/template.pdf', 'file_type': 'application/pdf', 'file_size': 132191, 'creation_date': '2024-07-08', 'last_modified_date': '2024-07-02'}, excluded_embed_metadata_keys=['file_name', 'file_type', 'file_size', 'creation_date', 'last_modified_date', 'last_accessed_date'], excluded_llm_metadata_keys=['file_name', 'file_type', 'file_size', 'creation_date', 'last_modified_date', 'last_accessed_date'], relationships={<NodeRelationship.SOURCE: '1'>: RelatedNodeInfo(node_id='42b6e57d-a358-474e-9e5f-d48963276432', node_type=<ObjectType.DOCUMENT: '4'>, metadata={'page_label': '2', 'file_name': 'template.pdf', 'file_path': '/Users/chirag/Documents/data/data/template.pdf', 'file_type': 'application/pdf', 'file_size': 132191, 'creation_date': '2024-07-08', 'last_modified_date': '2024-07-02'}, hash='068b9b49067da3ea36febb05dc213fdd33d38f73805c6f449589dd636096b244')}, text='Agenda\\n1. Close previous sprint\\n2.  \\nPrevious sprint summary\\nDetails\\nVelocity tracking\\nAdjusted velocity tracking\\nCapacity planning\\nPotential risks\\n Story points Story 1: 5 points, Story 2: 8 points, Story 3: 3 points\\nSummary Develop login and registration functionality (Story Points: 8)Sprint theme Stabilizing the platform by addressing critical bugs\\nEnd date 27/01/2024\\nSprint theme Stabilizing the platform by addressing critical bugsStart date 07/01/2024\\nYou can customize this template to change or add capacity measurements. You can also review older sprints by adding columns.\\nTotal days 20 days 10 days\\nTeam capacity 80% 70%\\nProjected capacity50 points 30 points\\nIndividual capacity 1. Ram:40 hours \\n2. Sita: 45 hours \\n 1. Ram:30 hours \\n2. Sita: 25 hours Current sprint Previous sprint\\nThe team has smaller buffer than expected The team might need to load low priority work to \\nbacklog\\n \\n  Risk Mitigation\\nRisk Mitigation', mimetype='text/plain', start_char_idx=0, end_char_idx=931, text_template='{metadata_str}\\n\\n{content}', metadata_template='{key}: {value}', metadata_seperator='\\n'), score=0.5341306700078962), NodeWithScore(node=TextNode(id_='621c1c1c-0a32-4dc5-af03-c1954797b064', embedding=None, metadata={'page_label': '1', 'file_name': 'template.pdf', 'file_path': '/Users/chirag/Documents/data/data/template.pdf', 'file_type': 'application/pdf', 'file_size': 132191, 'creation_date': '2024-07-08', 'last_modified_date': '2024-07-02'}, excluded_embed_metadata_keys=['file_name', 'file_type', 'file_size', 'creation_date', 'last_modified_date', 'last_accessed_date'], excluded_llm_metadata_keys=['file_name', 'file_type', 'file_size', 'creation_date', 'last_modified_date', 'last_accessed_date'], relationships={<NodeRelationship.SOURCE: '1'>: RelatedNodeInfo(node_id='39403c67-4dcc-442f-ae06-a80783ec6cad', node_type=<ObjectType.DOCUMENT: '4'>, metadata={'page_label': '1', 'file_name': 'template.pdf', 'file_path': '/Users/chirag/Documents/data/data/template.pdf', 'file_type': 'application/pdf', 'file_size': 132191, 'creation_date': '2024-07-08', 'last_modified_date': '2024-07-02'}, hash='15f84236b8b1ce79d21cdf66c9bda87580b30d06b3d4be30956a0257d35e8191')}, text=\"JIRA\\n Sprint planning checklist\\n Sprint team members\\n Sprint planning meeting items\\nAgenda\\nPrevious sprint summary\\nDetails\\nVelocity tracking\\nAdjusted velocity tracking\\nCapacity planning\\nPotential risks\\n Sprint planning resources\\nSprint boards and retrospectives\\nTeam resources and definitions\\n Sprint planning checklist\\n \\n Sprint team members\\n \\n Sprint planning meeting items\\nUse this template to structure your meeting, set expectations and goals, and define the backlog for the upcoming sprint. For detailed \\ninstructions and best practices, see our sprint planning guide and review how to estimate story points.This template is brought to you by Jira, Atlassian's project and issue tracker. Customize this template with information and resources \\nyour team uses each sprint to save prep time.\\nPreparation Meeting Follow up\\norganise the backlog and \\nclose the last sprintconfirm team capacity update Jira tickets\\nRam SDE2\\nSita SDE1\\n  Name Role\", mimetype='text/plain', start_char_idx=0, end_char_idx=945, text_template='{metadata_str}\\n\\n{content}', metadata_template='{key}: {value}', metadata_seperator='\\n'), score=0.4596884281309014)], metadata={'32c4407c-38b5-4c35-a72d-e51ac01207b1': {'page_label': '2', 'file_name': 'template.pdf', 'file_path': '/Users/chirag/Documents/data/data/template.pdf', 'file_type': 'application/pdf', 'file_size': 132191, 'creation_date': '2024-07-08', 'last_modified_date': '2024-07-02'}, '621c1c1c-0a32-4dc5-af03-c1954797b064': {'page_label': '1', 'file_name': 'template.pdf', 'file_path': '/Users/chirag/Documents/data/data/template.pdf', 'file_type': 'application/pdf', 'file_size': 132191, 'creation_date': '2024-07-08', 'last_modified_date': '2024-07-02'}, 'selector_result': MultiSelection(selections=[SingleSelection(index=0, reason='This strategy can help the team quickly find specific information to identify potential risks and take corrective action.')])})]"
      ]
     },
     "execution_count": 285,
     "metadata": {},
     "output_type": "execute_result"
    }
   ],
   "source": [
    "\n",
    "responses"
   ]
  },
  {
   "cell_type": "code",
   "execution_count": 286,
   "metadata": {},
   "outputs": [
    {
     "data": {
      "text/plain": [
       "'Ram SDE2 and Sita SDE1.'"
      ]
     },
     "execution_count": 286,
     "metadata": {},
     "output_type": "execute_result"
    }
   ],
   "source": [
    "responses[0].response"
   ]
  },
  {
   "cell_type": "code",
   "execution_count": 287,
   "metadata": {},
   "outputs": [],
   "source": [
    "n = 0\n",
    "res = []\n",
    "while n<10:\n",
    "    res.append(responses[n].response)\n",
    "    n += 1\n"
   ]
  },
  {
   "cell_type": "code",
   "execution_count": 324,
   "metadata": {},
   "outputs": [],
   "source": [
    "def load_ground_truth(file_path):\n",
    "    with open(file_path, 'r') as file:\n",
    "        truth = file.readlines()\n",
    "        truth = [t.strip() for t in truth]  # Remove any leading/trailing whitespace'\n",
    "        print(truth)\n",
    "    return truth\n"
   ]
  },
  {
   "cell_type": "code",
   "execution_count": 326,
   "metadata": {},
   "outputs": [
    {
     "name": "stdout",
     "output_type": "stream",
     "text": [
      "['Ram and Sita', 'To structure your meeting, set expectations and goals', 'Sprint boards and retrospectives and Team resources and definitions', 'Ram and Sita', 'Stabilizing the platform by addressing critical bugs', '8 points', '20 days', '70%', '40 hours', 'The team might need to load low priority work to backlog']\n"
     ]
    }
   ],
   "source": [
    "gt = load_ground_truth(\"ground_truth.txt\")"
   ]
  },
  {
   "cell_type": "code",
   "execution_count": 327,
   "metadata": {},
   "outputs": [
    {
     "data": {
      "text/plain": [
       "['Ram and Sita',\n",
       " 'To structure your meeting, set expectations and goals',\n",
       " 'Sprint boards and retrospectives and Team resources and definitions',\n",
       " 'Ram and Sita',\n",
       " 'Stabilizing the platform by addressing critical bugs',\n",
       " '8 points',\n",
       " '20 days',\n",
       " '70%',\n",
       " '40 hours',\n",
       " 'The team might need to load low priority work to backlog']"
      ]
     },
     "execution_count": 327,
     "metadata": {},
     "output_type": "execute_result"
    }
   ],
   "source": [
    "gt"
   ]
  },
  {
   "cell_type": "code",
   "execution_count": 335,
   "metadata": {},
   "outputs": [],
   "source": [
    "def evaluation(questions,res,n):\n",
    "    sentence_pairs = []\n",
    "    for question in questions:\n",
    "        while n<10:\n",
    "            sentence_pairs.append((questions[n], res[n]))\n",
    "            n += 1\n",
    "    return sentence_pairs"
   ]
  },
  {
   "cell_type": "code",
   "execution_count": 331,
   "metadata": {},
   "outputs": [
    {
     "data": {
      "text/plain": [
       "['Ram SDE2 and Sita SDE1.',\n",
       " 'The purpose of the \"Sprint planning meeting items\" section is to structure the meeting, set expectations and goals, and define the backlog for the upcoming sprint.',\n",
       " 'Some of the topics covered in the Sprint planning resources section include Sprint boards and retrospectives, Team resources and definitions.',\n",
       " 'The two team members mentioned in the capacity planning section are Ram and Sita.',\n",
       " 'Stabilizing the platform by addressing critical bugs.',\n",
       " 'Story 2 has 8 points.',\n",
       " '20 days.',\n",
       " '70%',\n",
       " '30 hours.',\n",
       " 'The team might need to load low priority work to backlog.']"
      ]
     },
     "execution_count": 331,
     "metadata": {},
     "output_type": "execute_result"
    }
   ],
   "source": [
    "res"
   ]
  },
  {
   "cell_type": "code",
   "execution_count": 369,
   "metadata": {},
   "outputs": [],
   "source": [
    "sentence_pairs = evaluation(gt,res,0)"
   ]
  },
  {
   "cell_type": "code",
   "execution_count": 337,
   "metadata": {},
   "outputs": [
    {
     "data": {
      "text/plain": [
       "[('Ram and Sita', 'Ram SDE2 and Sita SDE1.'),\n",
       " ('To structure your meeting, set expectations and goals',\n",
       "  'The purpose of the \"Sprint planning meeting items\" section is to structure the meeting, set expectations and goals, and define the backlog for the upcoming sprint.'),\n",
       " ('Sprint boards and retrospectives and Team resources and definitions',\n",
       "  'Some of the topics covered in the Sprint planning resources section include Sprint boards and retrospectives, Team resources and definitions.'),\n",
       " ('Ram and Sita',\n",
       "  'The two team members mentioned in the capacity planning section are Ram and Sita.'),\n",
       " ('Stabilizing the platform by addressing critical bugs',\n",
       "  'Stabilizing the platform by addressing critical bugs.'),\n",
       " ('8 points', 'Story 2 has 8 points.'),\n",
       " ('20 days', '20 days.'),\n",
       " ('70%', '70%'),\n",
       " ('40 hours', '30 hours.'),\n",
       " ('The team might need to load low priority work to backlog',\n",
       "  'The team might need to load low priority work to backlog.')]"
      ]
     },
     "execution_count": 337,
     "metadata": {},
     "output_type": "execute_result"
    }
   ],
   "source": [
    "sentence_pairs"
   ]
  },
  {
   "cell_type": "code",
   "execution_count": 370,
   "metadata": {},
   "outputs": [
    {
     "name": "stdout",
     "output_type": "stream",
     "text": [
      "Hallucination score: [0.18242246 0.6483753  0.7640626  0.40664437 0.9990018  0.9985594\n",
      " 0.92363805 0.9972184  0.0050105  0.9994702 ]\n",
      "\n"
     ]
    }
   ],
   "source": [
    "score  = model.predict(sentence_pairs)\n",
    "print(f\"Hallucination score: {score}\\n\")"
   ]
  },
  {
   "cell_type": "code",
   "execution_count": 371,
   "metadata": {},
   "outputs": [
    {
     "name": "stdout",
     "output_type": "stream",
     "text": [
      "Accuracy of the 10 responses: 69.24402994569391\n"
     ]
    }
   ],
   "source": [
    "s = 0\n",
    "n=10\n",
    "for i in score:\n",
    "    s = s + i\n",
    "print(\"Accuracy of the 10 responses:\",s/n * 100)"
   ]
  },
  {
   "cell_type": "markdown",
   "metadata": {},
   "source": [
    "## A normal llama without RAG\n"
   ]
  },
  {
   "cell_type": "code",
   "execution_count": 83,
   "metadata": {},
   "outputs": [],
   "source": [
    "import nest_asyncio\n",
    "\n",
    "nest_asyncio.apply()"
   ]
  },
  {
   "cell_type": "code",
   "execution_count": null,
   "metadata": {},
   "outputs": [],
   "source": [
    "from llama_index.llms.replicate import Replicate\n",
    "\n",
    "llm_replicate = Replicate(model=\"meta/meta-llama-3-8b-instruct\")"
   ]
  },
  {
   "cell_type": "code",
   "execution_count": 89,
   "metadata": {},
   "outputs": [
    {
     "name": "stdout",
     "output_type": "stream",
     "text": [
      "A sprint planning checklist typically includes a list of items to review and confirm before starting a new sprint. Here are some common items that might be included:\n",
      "\n",
      "1. **Sprint goals**: Review the overall objectives for the upcoming sprint, including any key results or deliverables.\n",
      "2. **Sprint scope**: Confirm which features, user stories, or tasks will be included in the current sprint.\n",
      "3. **Prioritization**: Verify the prioritization of items in the sprint backlog, ensuring that the most important and high-priority items are addressed first.\n",
      "4. **Estimation**: Review the estimated effort required for each task or story, including any dependencies or assumptions made during estimation.\n",
      "5. **Acceptance criteria**: Confirm what constitutes \"done\" for each item on the sprint backlog, including any acceptance tests or validation processes.\n",
      "6. **Task assignments**: Verify who will be working on which tasks and ensure that everyone understands their responsibilities and deadlines.\n",
      "7. **Sprint schedule**: Review the timeline for the upcoming sprint, including any key milestones or deadlines.\n",
      "8. **Risks and dependencies**: Identify potential risks or dependencies that may impact the success of the sprint and develop mitigation strategies as needed.\n",
      "9. **Resources**: Confirm which resources (e.g., team members, tools, equipment) will be required to complete tasks in the upcoming sprint.\n",
      "10. **Communication plan**: Review how team members will communicate with each other throughout the sprint, including any necessary meetings or check-ins.\n",
      "11. **Sprint velocity**: Review the expected velocity of the team for the upcoming sprint, based on historical data and trends.\n",
      "12. **Retrospective review**: Confirm that a retrospective meeting has been scheduled to reflect on the previous sprint's successes and challenges.\n",
      "\n",
      "By using a checklist like this, teams can ensure that all necessary details are covered before starting a new sprint, helping to increase the likelihood of success and minimize potential issues.\n"
     ]
    }
   ],
   "source": [
    "llm = Ollama(model=\"llama3\", request_timeout=120.0)\n",
    "response = llm.complete(\"What is in the sprint planning checklist?\")\n",
    "\n",
    "print(response)"
   ]
  },
  {
   "cell_type": "markdown",
   "metadata": {},
   "source": [
    "## Comparing between compact, refine and tree-summarise methods.\n"
   ]
  },
  {
   "cell_type": "code",
   "execution_count": 353,
   "metadata": {},
   "outputs": [
    {
     "name": "stdout",
     "output_type": "stream",
     "text": [
      "The first template appears to be a general outline for sprint planning, including sections such as agenda, previous sprint summary, velocity tracking, capacity planning, potential risks, and resources. This template seems to provide a framework for teams to structure their meetings, set expectations and goals, and define the backlog for an upcoming sprint.\n",
      "\n",
      "The second template is more specific to the preparation meeting follow-up, outlining tasks such as organizing the backlog, closing the last sprint, confirming team capacity updates, and updating Jira tickets. This template appears to be focused on the logistics of wrapping up one sprint and preparing for the next.\n"
     ]
    }
   ],
   "source": [
    "query_engine = vector_index.as_query_engine(response_mode=\"compact\")\n",
    "\n",
    "response = query_engine.query(\"Summarise both the templates\")\n",
    "\n",
    "print(response)"
   ]
  },
  {
   "cell_type": "code",
   "execution_count": 355,
   "metadata": {},
   "outputs": [
    {
     "name": "stdout",
     "output_type": "stream",
     "text": [
      "The two templates are:\n",
      "\n",
      "* A comprehensive framework for planning sprints, including setting goals, identifying tasks, and allocating responsibilities.\n",
      "* A valuable resource that outlines key terms, roles, and expectations for team members, ensuring a unified understanding of their work.\n"
     ]
    }
   ],
   "source": [
    "query_engine = vector_index.as_query_engine(response_mode=\"refine\")\n",
    "\n",
    "response = query_engine.query(\"Summarise both the templates\")\n",
    "\n",
    "print(response)"
   ]
  },
  {
   "cell_type": "code",
   "execution_count": 357,
   "metadata": {},
   "outputs": [
    {
     "name": "stdout",
     "output_type": "stream",
     "text": [
      "The first template appears to be a general outline for sprint planning, including sections such as agenda, previous sprint summary, velocity tracking, capacity planning, potential risks, and resources. This template seems to provide a framework for teams to structure their meetings and plan for upcoming sprints.\n",
      "\n",
      "The second template is more specific to the preparation meeting follow-up, outlining tasks such as organizing the backlog, closing the last sprint, and updating team capacity in Jira tickets. It also lists the names and roles of two team members, Ram SDE2 and Sita SDE1. This template appears to be a checklist for teams to use after their sprint planning meetings to ensure all necessary steps are taken.\n"
     ]
    }
   ],
   "source": [
    "query_engine = vector_index.as_query_engine(response_mode=\"tree_summarize\")\n",
    "\n",
    "response = query_engine.query(\"Summarise both the templates\")\n",
    "\n",
    "print(response)"
   ]
  },
  {
   "cell_type": "markdown",
   "metadata": {},
   "source": [
    "## Making an agent"
   ]
  },
  {
   "cell_type": "code",
   "execution_count": 358,
   "metadata": {},
   "outputs": [],
   "source": [
    "from llama_index.core.agent import ReActAgent\n",
    "\n",
    "agent = ReActAgent.from_tools(\n",
    "    [vector_tool, summary_tool],\n",
    "    llm=llm,\n",
    "    verbose=True\n",
    ")"
   ]
  },
  {
   "cell_type": "code",
   "execution_count": 361,
   "metadata": {},
   "outputs": [
    {
     "name": "stdout",
     "output_type": "stream",
     "text": [
      "\u001b[1;3;38;5;200mThought: The current language of the user is: English. I need to use a tool to help me answer the question.\n",
      "Action: summary\n",
      "Action Input: {'input': 'Please provide the template differences'}\n",
      "\u001b[0m\u001b[1;3;34mObservation: The template has three main sections: Agenda, Sprint Planning Meeting Items, and Sprint Team Members. The first section, Agenda, lists specific items to be discussed during the meeting, including closing the previous sprint and planning for the upcoming one.\n",
      "\n",
      "The second section, Sprint Planning Meeting Items, provides a checklist of tasks to complete during the meeting, such as organizing the backlog, confirming team capacity, and reviewing story points.\n",
      "\n",
      "The third section, Sprint Team Members, lists the names and roles of the team members involved in the sprint.\n",
      "\u001b[0m\u001b[1;3;38;5;200mThought: I can answer without using any more tools. I'll use the user's language to answer\n",
      "Answer: The two templates are different in that one is for a general meeting agenda, while the other is specifically designed for a Sprint Planning Meeting in Scrum framework. The first template has three main sections: Agenda, Sprint Planning Meeting Items, and Sprint Team Members.\n",
      "\u001b[0mThe two templates are different in that one is for a general meeting agenda, while the other is specifically designed for a Sprint Planning Meeting in Scrum framework. The first template has three main sections: Agenda, Sprint Planning Meeting Items, and Sprint Team Members.\n"
     ]
    }
   ],
   "source": [
    "response = agent.chat(\"What is the difference in the 2 templates?\")\n",
    "print(response)"
   ]
  },
  {
   "cell_type": "code",
   "execution_count": null,
   "metadata": {},
   "outputs": [],
   "source": [
    "from llama_index.core.node_parser import SentenceSplitter\n",
    "\n",
    "text_splitter = SentenceSplitter(chunk_size=512, chunk_overlap=10)\n",
    "\n",
    "# global\n",
    "from llama_index.core import Settings\n",
    "\n",
    "Settings.text_splitter = text_splitter\n",
    "\n",
    "# per-index\n",
    "index = VectorStoreIndex.from_documents(\n",
    "    documents, transformations=[text_splitter]\n",
    ")\n",
    "from llama_index.core.ingestion import IngestionPipeline\n",
    "from llama_index.core.node_parser import TokenTextSplitter\n",
    "\n",
    "pipeline = IngestionPipeline(transformations=[TokenTextSplitter(), ...])\n",
    "\n",
    "nodes = pipeline.run(documents=documents)"
   ]
  }
 ],
 "metadata": {
  "kernelspec": {
   "display_name": "Python 3",
   "language": "python",
   "name": "python3"
  },
  "language_info": {
   "codemirror_mode": {
    "name": "ipython",
    "version": 3
   },
   "file_extension": ".py",
   "mimetype": "text/x-python",
   "name": "python",
   "nbconvert_exporter": "python",
   "pygments_lexer": "ipython3",
   "version": "3.9.6"
  }
 },
 "nbformat": 4,
 "nbformat_minor": 2
}
